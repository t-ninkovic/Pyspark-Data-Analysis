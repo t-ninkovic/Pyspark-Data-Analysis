{
 "cells": [
  {
   "cell_type": "markdown",
   "metadata": {},
   "source": [
    "# Analyzing Data with Spark\n"
   ]
  },
  {
   "cell_type": "markdown",
   "metadata": {},
   "source": [
    "### Students:\n",
    "- Kawtar LAGHDAF\n",
    "- Tijana NINKOVIC"
   ]
  },
  {
   "cell_type": "markdown",
   "metadata": {},
   "source": [
    "### About the dataset\n",
    "In this assignment we performed different kinds of analysis on a large dataset using Apache Spark. The data that we studied has been made available by Google and it includes data about a cluster of 12500 machines and the activity on this cluster during 29 days. The data is stored in CSV files and it is organized in the following tables:\n",
    "* Machine events\n",
    "* Machine attributes\n",
    "* Job events\n",
    "* Task evens\n",
    "* Task constraints\n",
    "* Task usage"
   ]
  },
  {
   "cell_type": "markdown",
   "metadata": {},
   "source": [
    "First, we import the neccessary libraries. We localize Spark package using the function `findspark.find()`, we define the entry to Spark functionality with `SparkContext` and we start a Spark session.\n",
    "<br>We also import libraries for visualizing data. The main library for visualizing data in Python is `matplotlib`. It is powerful enough to allow us to make any kind of graph we would like. Because it is so powerful, it is also very complex, so another library that was developed on top of it is `seaborn`. The graphs in seaborn look nicer than the ones in matplotlib and it also allows us to make complex visualizations more simple and quick. We will be using both of them."
   ]
  },
  {
   "cell_type": "code",
   "execution_count": 1,
   "metadata": {},
   "outputs": [],
   "source": [
    "import sys\n",
    "import findspark\n",
    "findspark.init()\n",
    "findspark.find()\n",
    "import pyspark\n",
    "findspark.find()\n",
    "from pyspark import SparkContext\n",
    "import time\n",
    "from operator import add\n",
    "import numpy as np\n",
    "import pandas as pd\n",
    "import matplotlib.pyplot as plt\n",
    "import seaborn as sns\n",
    "sns.set()"
   ]
  },
  {
   "cell_type": "code",
   "execution_count": 2,
   "metadata": {},
   "outputs": [],
   "source": [
    "sc = SparkContext(\"local[1]\")\n",
    "sc.setLogLevel(\"ERROR\")"
   ]
  },
  {
   "cell_type": "code",
   "execution_count": 3,
   "metadata": {},
   "outputs": [],
   "source": [
    "from pyspark.sql import SparkSession\n",
    "spark = SparkSession(sc)"
   ]
  },
  {
   "cell_type": "markdown",
   "metadata": {},
   "source": [
    "We load the schema file using the `pandas` function `read_csv()` in order to see how the dataset is organized."
   ]
  },
  {
   "cell_type": "code",
   "execution_count": 5,
   "metadata": {},
   "outputs": [
    {
     "data": {
      "text/html": [
       "<div>\n",
       "<style scoped>\n",
       "    .dataframe tbody tr th:only-of-type {\n",
       "        vertical-align: middle;\n",
       "    }\n",
       "\n",
       "    .dataframe tbody tr th {\n",
       "        vertical-align: top;\n",
       "    }\n",
       "\n",
       "    .dataframe thead th {\n",
       "        text-align: right;\n",
       "    }\n",
       "</style>\n",
       "<table border=\"1\" class=\"dataframe\">\n",
       "  <thead>\n",
       "    <tr style=\"text-align: right;\">\n",
       "      <th></th>\n",
       "      <th>file pattern</th>\n",
       "      <th>field number</th>\n",
       "      <th>content</th>\n",
       "      <th>format</th>\n",
       "      <th>mandatory</th>\n",
       "    </tr>\n",
       "  </thead>\n",
       "  <tbody>\n",
       "    <tr>\n",
       "      <th>0</th>\n",
       "      <td>job_events/part-?????-of-?????.csv.gz</td>\n",
       "      <td>1</td>\n",
       "      <td>time</td>\n",
       "      <td>INTEGER</td>\n",
       "      <td>YES</td>\n",
       "    </tr>\n",
       "    <tr>\n",
       "      <th>1</th>\n",
       "      <td>job_events/part-?????-of-?????.csv.gz</td>\n",
       "      <td>2</td>\n",
       "      <td>missing info</td>\n",
       "      <td>INTEGER</td>\n",
       "      <td>NO</td>\n",
       "    </tr>\n",
       "    <tr>\n",
       "      <th>2</th>\n",
       "      <td>job_events/part-?????-of-?????.csv.gz</td>\n",
       "      <td>3</td>\n",
       "      <td>job ID</td>\n",
       "      <td>INTEGER</td>\n",
       "      <td>YES</td>\n",
       "    </tr>\n",
       "    <tr>\n",
       "      <th>3</th>\n",
       "      <td>job_events/part-?????-of-?????.csv.gz</td>\n",
       "      <td>4</td>\n",
       "      <td>event type</td>\n",
       "      <td>INTEGER</td>\n",
       "      <td>YES</td>\n",
       "    </tr>\n",
       "    <tr>\n",
       "      <th>4</th>\n",
       "      <td>job_events/part-?????-of-?????.csv.gz</td>\n",
       "      <td>5</td>\n",
       "      <td>user</td>\n",
       "      <td>STRING_HASH</td>\n",
       "      <td>NO</td>\n",
       "    </tr>\n",
       "  </tbody>\n",
       "</table>\n",
       "</div>"
      ],
      "text/plain": [
       "                            file pattern  field number       content  \\\n",
       "0  job_events/part-?????-of-?????.csv.gz             1          time   \n",
       "1  job_events/part-?????-of-?????.csv.gz             2  missing info   \n",
       "2  job_events/part-?????-of-?????.csv.gz             3        job ID   \n",
       "3  job_events/part-?????-of-?????.csv.gz             4    event type   \n",
       "4  job_events/part-?????-of-?????.csv.gz             5          user   \n",
       "\n",
       "        format mandatory  \n",
       "0      INTEGER       YES  \n",
       "1      INTEGER        NO  \n",
       "2      INTEGER       YES  \n",
       "3      INTEGER       YES  \n",
       "4  STRING_HASH        NO  "
      ]
     },
     "execution_count": 5,
     "metadata": {},
     "output_type": "execute_result"
    }
   ],
   "source": [
    "schema = pd.read_csv('clusterdata-2011-2/schema.csv')\n",
    "schema.head()"
   ]
  },
  {
   "cell_type": "markdown",
   "metadata": {
    "collapsed": true
   },
   "source": [
    "#### The distribution of the machines according to their CPU and memory capacity\n",
    "For this analysis we used the table **Machine events** which has the following fields:\n",
    "   1. timestamp\n",
    "   2. machine ID\n",
    "   3. event type\n",
    "   4. platform ID\n",
    "   5. capacity: CPU\n",
    "   6. capacity: memory"
   ]
  },
  {
   "cell_type": "markdown",
   "metadata": {},
   "source": [
    "We load the dataset and define the header, since there is no header in the CSV file."
   ]
  },
  {
   "cell_type": "code",
   "execution_count": 5,
   "metadata": {},
   "outputs": [
    {
     "data": {
      "text/html": [
       "<div>\n",
       "<style scoped>\n",
       "    .dataframe tbody tr th:only-of-type {\n",
       "        vertical-align: middle;\n",
       "    }\n",
       "\n",
       "    .dataframe tbody tr th {\n",
       "        vertical-align: top;\n",
       "    }\n",
       "\n",
       "    .dataframe thead th {\n",
       "        text-align: right;\n",
       "    }\n",
       "</style>\n",
       "<table border=\"1\" class=\"dataframe\">\n",
       "  <thead>\n",
       "    <tr style=\"text-align: right;\">\n",
       "      <th></th>\n",
       "      <th>timestamp</th>\n",
       "      <th>machine_ID</th>\n",
       "      <th>event_type</th>\n",
       "      <th>platform_ID</th>\n",
       "      <th>capacity_CPU</th>\n",
       "      <th>capacity_memory</th>\n",
       "    </tr>\n",
       "  </thead>\n",
       "  <tbody>\n",
       "    <tr>\n",
       "      <th>0</th>\n",
       "      <td>0</td>\n",
       "      <td>5</td>\n",
       "      <td>0</td>\n",
       "      <td>HofLGzk1Or/8Ildj2+Lqv0UGGvY82NLoni8+J/Yy0RU=</td>\n",
       "      <td>0.5</td>\n",
       "      <td>0.2493</td>\n",
       "    </tr>\n",
       "    <tr>\n",
       "      <th>1</th>\n",
       "      <td>0</td>\n",
       "      <td>6</td>\n",
       "      <td>0</td>\n",
       "      <td>HofLGzk1Or/8Ildj2+Lqv0UGGvY82NLoni8+J/Yy0RU=</td>\n",
       "      <td>0.5</td>\n",
       "      <td>0.2493</td>\n",
       "    </tr>\n",
       "    <tr>\n",
       "      <th>2</th>\n",
       "      <td>0</td>\n",
       "      <td>7</td>\n",
       "      <td>0</td>\n",
       "      <td>HofLGzk1Or/8Ildj2+Lqv0UGGvY82NLoni8+J/Yy0RU=</td>\n",
       "      <td>0.5</td>\n",
       "      <td>0.2493</td>\n",
       "    </tr>\n",
       "    <tr>\n",
       "      <th>3</th>\n",
       "      <td>0</td>\n",
       "      <td>10</td>\n",
       "      <td>0</td>\n",
       "      <td>HofLGzk1Or/8Ildj2+Lqv0UGGvY82NLoni8+J/Yy0RU=</td>\n",
       "      <td>0.5</td>\n",
       "      <td>0.2493</td>\n",
       "    </tr>\n",
       "    <tr>\n",
       "      <th>4</th>\n",
       "      <td>0</td>\n",
       "      <td>13</td>\n",
       "      <td>0</td>\n",
       "      <td>HofLGzk1Or/8Ildj2+Lqv0UGGvY82NLoni8+J/Yy0RU=</td>\n",
       "      <td>0.5</td>\n",
       "      <td>0.2493</td>\n",
       "    </tr>\n",
       "  </tbody>\n",
       "</table>\n",
       "</div>"
      ],
      "text/plain": [
       "   timestamp  machine_ID  event_type  \\\n",
       "0          0           5           0   \n",
       "1          0           6           0   \n",
       "2          0           7           0   \n",
       "3          0          10           0   \n",
       "4          0          13           0   \n",
       "\n",
       "                                    platform_ID  capacity_CPU  capacity_memory  \n",
       "0  HofLGzk1Or/8Ildj2+Lqv0UGGvY82NLoni8+J/Yy0RU=           0.5           0.2493  \n",
       "1  HofLGzk1Or/8Ildj2+Lqv0UGGvY82NLoni8+J/Yy0RU=           0.5           0.2493  \n",
       "2  HofLGzk1Or/8Ildj2+Lqv0UGGvY82NLoni8+J/Yy0RU=           0.5           0.2493  \n",
       "3  HofLGzk1Or/8Ildj2+Lqv0UGGvY82NLoni8+J/Yy0RU=           0.5           0.2493  \n",
       "4  HofLGzk1Or/8Ildj2+Lqv0UGGvY82NLoni8+J/Yy0RU=           0.5           0.2493  "
      ]
     },
     "execution_count": 5,
     "metadata": {},
     "output_type": "execute_result"
    }
   ],
   "source": [
    "machine_events_header = [\"timestamp\", \"machine_ID\", \"event_type\", \"platform_ID\", \"capacity_CPU\", \"capacity_memory\"]\n",
    "machine_events = pd.read_csv('clusterdata-2011-2/machine_events/part-00000-of-00001.csv.gz',\n",
    "                            names = machine_events_header )\n",
    "machine_events.head()"
   ]
  },
  {
   "cell_type": "markdown",
   "metadata": {},
   "source": [
    "We define the function `findCol()` which returns the index of the column name that was passed to it."
   ]
  },
  {
   "cell_type": "code",
   "execution_count": 6,
   "metadata": {},
   "outputs": [],
   "source": [
    "def findCol(firstLine, name):\n",
    "    if name in firstLine:\n",
    "        return firstLine.index(name)\n",
    "    else:\n",
    "        return -1"
   ]
  },
  {
   "cell_type": "markdown",
   "metadata": {},
   "source": [
    "The way we found the distribution of machines according to CPU capacity is first by creating a new RDD with the dsitinct machine ID and CPU capacity pairs. The reason we call the distinct() function is because this is a table of machine events, meaning that every time a machine is added, removed or updated there is a new row in the dataset, but if it's the same machine all other values in the row will be identical. Therefore, we would have duplicated in our new RDD if there was more than one event on a specific machine.\n",
    "<br>We then call the `map()` function to map value one to CPU capacity for each row and `reduceByKey()` which adds all those rows and counts how many times each CPU capacity appears in our data. This can be done because CPU capacity is devided into categories: 0.25, 0.5, 0.75 and 1 (one corresponding to the highest capacity). What we are doing here is counting how many machines belong to each of the categories and printing the results."
   ]
  },
  {
   "cell_type": "code",
   "execution_count": 7,
   "metadata": {},
   "outputs": [
    {
     "name": "stdout",
     "output_type": "stream",
     "text": [
      "The distribution of machines according to their CPU capacity is:\n"
     ]
    },
    {
     "data": {
      "text/plain": [
       "[('0.5', 92.42172017439556),\n",
       " ('0.25', 0.9988109393579072),\n",
       " ('1', 6.325802615933412),\n",
       " ('', 0.2536662703131193)]"
      ]
     },
     "execution_count": 7,
     "metadata": {},
     "output_type": "execute_result"
    }
   ],
   "source": [
    "machine_events = sc.textFile(\"clusterdata-2011-2/machine_events/*.csv.gz\").map(lambda line: line.split(','))\n",
    "machine_events_header = [\"timestamp\", \"machine_ID\", \"event_type\", \"platform_ID\", \"capacity_CPU\", \"capacity_memory\"]\n",
    "\n",
    "machine_index = findCol(machine_events_header, \"machine_ID\")\n",
    "CPU_index = findCol(machine_events_header, \"capacity_CPU\")\n",
    "\n",
    "gpu_data = machine_events.map(lambda x: (x[machine_index],x[CPU_index])).distinct()\n",
    "gpu_capacity = gpu_data.map(lambda x: (x[1], 1))\n",
    "\n",
    "gpu_capacity_count = gpu_capacity.reduceByKey(add)\n",
    "total = gpu_capacity.count()\n",
    "\n",
    "gpu_capacity_distribution = gpu_capacity_count.map(lambda x: (x[0], x[1]/total*100))\n",
    "\n",
    "print('The distribution of machines according to their CPU capacity is:')\n",
    "gpu_capacity_distribution.collect()\n"
   ]
  },
  {
   "cell_type": "markdown",
   "metadata": {},
   "source": [
    "Similarly, we can do the same thing for memory capacity. In this case we have more categories than we did for CPU, but still a small enough number to use the same method."
   ]
  },
  {
   "cell_type": "code",
   "execution_count": 8,
   "metadata": {},
   "outputs": [
    {
     "data": {
      "text/plain": [
       "[('0.2493', 3866),\n",
       " ('0.4995', 6732),\n",
       " ('0.1241', 54),\n",
       " ('0.03085', 5),\n",
       " ('0.749', 1003),\n",
       " ('0.9678', 5),\n",
       " ('0.2498', 126),\n",
       " ('0.06158', 1),\n",
       " ('1', 795),\n",
       " ('0.5', 3),\n",
       " ('', 32)]"
      ]
     },
     "execution_count": 8,
     "metadata": {},
     "output_type": "execute_result"
    }
   ],
   "source": [
    "memory_index = findCol(machine_events_header, \"capacity_memory\")\n",
    "memory_data = machine_events.map(lambda x: (x[machine_index],x[memory_index])).distinct()\n",
    "memory_capacity = memory_data.map(lambda x: (x[1], 1))\n",
    "memory_capacity_count = memory_capacity.reduceByKey(add)\n",
    "\n",
    "memory_distribution = memory_capacity_count.map(lambda x: (x[0], x[1]))\n",
    "memory_distribution.collect()"
   ]
  },
  {
   "cell_type": "markdown",
   "metadata": {},
   "source": [
    "Now we can check if there is any dependency between these two values. "
   ]
  },
  {
   "cell_type": "code",
   "execution_count": 8,
   "metadata": {},
   "outputs": [
    {
     "data": {
      "text/html": [
       "<div>\n",
       "<style scoped>\n",
       "    .dataframe tbody tr th:only-of-type {\n",
       "        vertical-align: middle;\n",
       "    }\n",
       "\n",
       "    .dataframe tbody tr th {\n",
       "        vertical-align: top;\n",
       "    }\n",
       "\n",
       "    .dataframe thead th {\n",
       "        text-align: right;\n",
       "    }\n",
       "</style>\n",
       "<table border=\"1\" class=\"dataframe\">\n",
       "  <thead>\n",
       "    <tr style=\"text-align: right;\">\n",
       "      <th></th>\n",
       "      <th>CPU capacity</th>\n",
       "      <th>memory capacity</th>\n",
       "    </tr>\n",
       "    <tr>\n",
       "      <th>machine ID</th>\n",
       "      <th></th>\n",
       "      <th></th>\n",
       "    </tr>\n",
       "  </thead>\n",
       "  <tbody>\n",
       "    <tr>\n",
       "      <th>5</th>\n",
       "      <td>0.5</td>\n",
       "      <td>0.2493</td>\n",
       "    </tr>\n",
       "    <tr>\n",
       "      <th>6</th>\n",
       "      <td>0.5</td>\n",
       "      <td>0.2493</td>\n",
       "    </tr>\n",
       "    <tr>\n",
       "      <th>7</th>\n",
       "      <td>0.5</td>\n",
       "      <td>0.2493</td>\n",
       "    </tr>\n",
       "    <tr>\n",
       "      <th>10</th>\n",
       "      <td>0.5</td>\n",
       "      <td>0.2493</td>\n",
       "    </tr>\n",
       "    <tr>\n",
       "      <th>13</th>\n",
       "      <td>0.5</td>\n",
       "      <td>0.2493</td>\n",
       "    </tr>\n",
       "  </tbody>\n",
       "</table>\n",
       "</div>"
      ],
      "text/plain": [
       "           CPU capacity memory capacity\n",
       "machine ID                             \n",
       "5                   0.5          0.2493\n",
       "6                   0.5          0.2493\n",
       "7                   0.5          0.2493\n",
       "10                  0.5          0.2493\n",
       "13                  0.5          0.2493"
      ]
     },
     "execution_count": 8,
     "metadata": {},
     "output_type": "execute_result"
    }
   ],
   "source": [
    "#creating a pandas data frame with machines and their cpu and memory capacities, for easier visualisation\n",
    "#first converting to dictionaries and then dataframes, because calling toDF on RDDs was not giving good results\n",
    "help_dict_cpu = gpu_data.collectAsMap()\n",
    "help_dict_mem = memory_data.collectAsMap()\n",
    "cpu_df = pd.DataFrame()\n",
    "cpu_df[\"machine ID\"] = help_dict_cpu.keys()\n",
    "cpu_df[\"CPU capacity\"] = help_dict_cpu.values()\n",
    "cpu_df = cpu_df.set_index('machine ID')\n",
    "mem_df = pd.DataFrame()\n",
    "mem_df[\"machine ID\"] = help_dict_mem.keys()\n",
    "mem_df[\"memory capacity\"] = help_dict_mem.values()\n",
    "mem_df = mem_df.set_index('machine ID')\n",
    "\n",
    "merged = cpu_df.merge(mem_df, left_index=True, right_index=True)\n",
    "merged.head()"
   ]
  },
  {
   "cell_type": "markdown",
   "metadata": {},
   "source": [
    "Now, we can plot this values. For this we are using the `countplot()` function from the `seaborn` package which draws bars corresponding to the number of machines belonging to each category."
   ]
  },
  {
   "cell_type": "code",
   "execution_count": 11,
   "metadata": {},
   "outputs": [
    {
     "data": {
      "text/plain": [
       "<matplotlib.axes._subplots.AxesSubplot at 0x17d86d97ba8>"
      ]
     },
     "execution_count": 11,
     "metadata": {},
     "output_type": "execute_result"
    },
    {
     "data": {
      "image/png": "[encoded data removed]",
      "text/plain": [
       "<Figure size 1152x576 with 2 Axes>"
      ]
     },
     "metadata": {
      "needs_background": "light"
     },
     "output_type": "display_data"
    }
   ],
   "source": [
    "_, axes = plt.subplots(2, 1, figsize=(16, 8))\n",
    "\n",
    "sns.countplot(x='CPU capacity', data=merged, ax=axes[0])\n",
    "sns.countplot(x='memory capacity', data=merged, ax=axes[1])"
   ]
  },
  {
   "cell_type": "markdown",
   "metadata": {},
   "source": [
    "The countplot shows us the distribution of each CPU and memory capacity categories. Both of these values are normalized and take values from 0 to 1, 1 corresponding to the highest CPU/memory capacity from all the machines. For CPU we have different categories and we can see that the majority of machines falls into the '0.5' category.\n",
    "Memory capacity has more categories, but we still see that the majority of the machines fall in the middle."
   ]
  },
  {
   "cell_type": "code",
   "execution_count": 12,
   "metadata": {},
   "outputs": [
    {
     "data": {
      "text/html": [
       "<div>\n",
       "<style scoped>\n",
       "    .dataframe tbody tr th:only-of-type {\n",
       "        vertical-align: middle;\n",
       "    }\n",
       "\n",
       "    .dataframe tbody tr th {\n",
       "        vertical-align: top;\n",
       "    }\n",
       "\n",
       "    .dataframe thead th {\n",
       "        text-align: right;\n",
       "    }\n",
       "</style>\n",
       "<table border=\"1\" class=\"dataframe\">\n",
       "  <thead>\n",
       "    <tr style=\"text-align: right;\">\n",
       "      <th>memory capacity</th>\n",
       "      <th>0.03085</th>\n",
       "      <th>0.06158</th>\n",
       "      <th>0.1241</th>\n",
       "      <th>0.2493</th>\n",
       "      <th>0.2498</th>\n",
       "      <th>0.4995</th>\n",
       "      <th>0.5</th>\n",
       "      <th>0.749</th>\n",
       "      <th>0.9678</th>\n",
       "      <th>1</th>\n",
       "    </tr>\n",
       "    <tr>\n",
       "      <th>CPU capacity</th>\n",
       "      <th></th>\n",
       "      <th></th>\n",
       "      <th></th>\n",
       "      <th></th>\n",
       "      <th></th>\n",
       "      <th></th>\n",
       "      <th></th>\n",
       "      <th></th>\n",
       "      <th></th>\n",
       "      <th></th>\n",
       "    </tr>\n",
       "  </thead>\n",
       "  <tbody>\n",
       "    <tr>\n",
       "      <th>0.25</th>\n",
       "      <td>0</td>\n",
       "      <td>0</td>\n",
       "      <td>0</td>\n",
       "      <td>0</td>\n",
       "      <td>126</td>\n",
       "      <td>0</td>\n",
       "      <td>0</td>\n",
       "      <td>0</td>\n",
       "      <td>0</td>\n",
       "      <td>0</td>\n",
       "    </tr>\n",
       "    <tr>\n",
       "      <th>0.5</th>\n",
       "      <td>5</td>\n",
       "      <td>1</td>\n",
       "      <td>52</td>\n",
       "      <td>3863</td>\n",
       "      <td>0</td>\n",
       "      <td>6732</td>\n",
       "      <td>0</td>\n",
       "      <td>1001</td>\n",
       "      <td>5</td>\n",
       "      <td>0</td>\n",
       "    </tr>\n",
       "    <tr>\n",
       "      <th>1</th>\n",
       "      <td>0</td>\n",
       "      <td>0</td>\n",
       "      <td>0</td>\n",
       "      <td>0</td>\n",
       "      <td>0</td>\n",
       "      <td>0</td>\n",
       "      <td>3</td>\n",
       "      <td>0</td>\n",
       "      <td>0</td>\n",
       "      <td>795</td>\n",
       "    </tr>\n",
       "  </tbody>\n",
       "</table>\n",
       "</div>"
      ],
      "text/plain": [
       "memory capacity  0.03085  0.06158  0.1241  0.2493  0.2498  0.4995  0.5  0.749  \\\n",
       "CPU capacity                                                                    \n",
       "0.25                   0        0       0       0     126       0    0      0   \n",
       "0.5                    5        1      52    3863       0    6732    0   1001   \n",
       "1                      0        0       0       0       0       0    3      0   \n",
       "\n",
       "memory capacity  0.9678    1  \n",
       "CPU capacity                  \n",
       "0.25                  0    0  \n",
       "0.5                   5    0  \n",
       "1                     0  795  "
      ]
     },
     "execution_count": 12,
     "metadata": {},
     "output_type": "execute_result"
    }
   ],
   "source": [
    "pd.crosstab(merged['CPU capacity'], merged['memory capacity'])"
   ]
  },
  {
   "cell_type": "markdown",
   "metadata": {},
   "source": [
    "`crosstab` gives us values for each CPU/memory pair. From this we observe that machines with the most powerful CPU also have largest memory capacity."
   ]
  },
  {
   "cell_type": "markdown",
   "metadata": {},
   "source": [
    "#### The percentage of computational power lost due to maintenance\n",
    "To compute this we again looked at the **Machine events** table. We first called the `map()` function to create a new RDD that has the machine ID and CPU capacity as the key, and also has the event type and the timestamp at which this event happened. After that, we `groupByKey()` in order to merge these events into a list, so that for each machine we will have a list of events that happened on it. *Event type 1* corresponds to machine being removed and *event type 0* corresponds to machine being added. We use the timestamp to calculate how much time has passed between removing a machine and adding it again and then we multiply that by the CPU capacity of that machine. The sum of all of those values is our *lost capacity.* We also multiply the capacity of each machine with the maximum timestamp that we have in our RDD and assume that would be the *ideal capacity* if machines never went offline. Then, we devide these two numbers to get the *percentage of computational power that was lost*."
   ]
  },
  {
   "cell_type": "code",
   "execution_count": 7,
   "metadata": {},
   "outputs": [
    {
     "name": "stdout",
     "output_type": "stream",
     "text": [
      "The percentage of computational power lost due to maintanance is 4.81 %\n"
     ]
    }
   ],
   "source": [
    "machine_events = sc.textFile(\"clusterdata-2011-2/machine_events/*.csv.gz\").map(lambda line: line.split(','))\n",
    "machine_events_header = [\"timestamp\", \"machine_ID\", \"event_type\", \"platform_ID\", \"capacity_CPU\", \"capacity_memory\"]\n",
    "\n",
    "eventType_index = findCol(machine_events_header, \"event_type\")\n",
    "id_index = findCol(machine_events_header, \"machine_ID\")\n",
    "tstmp_index = findCol(machine_events_header, \"timestamp\")\n",
    "capacity_index = findCol(machine_events_header, \"capacity_CPU\")\n",
    "\n",
    "data = machine_events.map(lambda x: ((x[id_index],x[capacity_index]), (x[eventType_index], x[tstmp_index])))\n",
    "data = data.groupByKey()\n",
    "\n",
    "max_time = machine_events.map(lambda x: int(x[tstmp_index])).max()\n",
    "\n",
    "\n",
    "lost_capacity = 0\n",
    "ideal_capacity = 0\n",
    "\n",
    "number_of_machines = data.count()\n",
    "arr = [] #array in which we will store time that passed between machine being removed and added again\n",
    "\n",
    "for x in data.take(number_of_machines-100) :\n",
    "    counter = 0\n",
    "    events = x[1].data\n",
    "    capacity = float(x[0][1])\n",
    "    idx = x[0][0]\n",
    "    #print(\"Events machine\", idx, \"of capacity\", capacity, \"are\", events)\n",
    "    events.pop(0)\n",
    "    delta = 0\n",
    "    while events != []:\n",
    "        counter = (counter+1)%2\n",
    "        event = events.pop(0)\n",
    "        if event[0] == '1':\n",
    "            delta -= int(event[1])\n",
    "            time_removed = int(event[1]) #time at which machine was removed\n",
    "        if event[0] == '0':\n",
    "            delta += int(event[1])\n",
    "            time_added = int(event[1]) #time at which machine was added again\n",
    "            \n",
    "            diff = time_added - time_removed #time that passed between those two events\n",
    "            #converting microseconds to seconds and adding to array\n",
    "            arr.append(diff/1000000)\n",
    "    if counter == 1:\n",
    "        delta += max_time\n",
    "    delta = delta * capacity\n",
    "    ideal_capacity = ideal_capacity + (max_time * capacity)\n",
    "    lost_capacity += delta\n",
    "\n",
    "#Deviding the lost capacity by total capacity that we would have if machines never went offline \n",
    "print(\"The percentage of computational power lost due to maintanance is\", round(lost_capacity/ideal_capacity*100, 2), \"%\")\n"
   ]
  },
  {
   "cell_type": "markdown",
   "metadata": {},
   "source": [
    "In the for loop we go through number_of_machines - 100 and not total number of machines. The reason is that when we put just number_of_machines is gives us an error in this line `capacity = float(x[0][1])`. The same error happens if we exclude the last 10 or 50. First we only computed for a fixed number of machines (5000), but then we took 100 as a random number here because when excluding the last 100 everything works fine, but the number is still very small that the machines we are not including would not make a significant change in our final result."
   ]
  },
  {
   "cell_type": "markdown",
   "metadata": {},
   "source": [
    "Another thing we can do is plot the distribution of time a machine was offline for maintenance. We found this time as a difference between timestamps of when machine was removed and timestamp of when machine was added again. These timestamps represent microseconds, so we converted them to seconds.\n",
    "\n",
    "We saved all these values in an array and when observing the results we got, we saw that there are a lot of outliers when machine was offline for significantly longer than average. The function below is used for removing those outliers."
   ]
  },
  {
   "cell_type": "code",
   "execution_count": 8,
   "metadata": {},
   "outputs": [],
   "source": [
    "def reject_outliers(data, m=.5):\n",
    "    return data[abs(data - np.mean(data)) < m * np.std(data)]\n",
    "\n",
    "np_arr = np.array(arr)\n",
    "np_arr = reject_outliers(np_arr)"
   ]
  },
  {
   "cell_type": "markdown",
   "metadata": {},
   "source": [
    "In the graph below we used a violin plot to represent how these times are distributed. The first one is before removing outliers. We can see that most values are concentrated around zero but because of these extreme cases where machines were offline for a long time (which aren't numerous) we don't see that distribution well. Therefore, in the second graph we represent the distribution without those values. Once again we see that the majority is concentrated around zero.\n",
    "<br>This tells us that when machines go offline for maintenance that time is usually not long and therefore not a lot of capacity is lost, which also corresponds to the result we got above."
   ]
  },
  {
   "cell_type": "code",
   "execution_count": 9,
   "metadata": {},
   "outputs": [
    {
     "name": "stderr",
     "output_type": "stream",
     "text": [
      "D:\\Anaconda3\\lib\\site-packages\\scipy\\stats\\stats.py:1713: FutureWarning: Using a non-tuple sequence for multidimensional indexing is deprecated; use `arr[tuple(seq)]` instead of `arr[seq]`. In the future this will be interpreted as an array index, `arr[np.array(seq)]`, which will result either in an error or a different result.\n",
      "  return np.add.reduce(sorted[indexer] * weights, axis=axis) / sumval\n"
     ]
    },
    {
     "data": {
      "text/plain": [
       "<matplotlib.axes._subplots.AxesSubplot at 0x18926dc22e8>"
      ]
     },
     "execution_count": 9,
     "metadata": {},
     "output_type": "execute_result"
    },
    {
     "data": {
      "image/png": "[encoded data removed]",
      "text/plain": [
       "<Figure size 1152x576 with 2 Axes>"
      ]
     },
     "metadata": {
      "needs_background": "light"
     },
     "output_type": "display_data"
    }
   ],
   "source": [
    "_, axes = plt.subplots(1, 2, sharey=False, figsize=(16, 8))\n",
    "\n",
    "sns.violinplot(data=arr, ax=axes[0])\n",
    "sns.violinplot(data=np_arr, ax=axes[1])"
   ]
  },
  {
   "cell_type": "markdown",
   "metadata": {
    "collapsed": true
   },
   "source": [
    "#### The distribution of the number jobs/tasks per scheduling class\n",
    "For this analysis we used the **Task events** table, which has the following fields:\n",
    "   1. timestamp\n",
    "   2. missing info\n",
    "   3. job ID\n",
    "   4. task index - within the job\n",
    "   5. machine ID\n",
    "   6. event type\n",
    "   7. user name\n",
    "   8. scheduling class\n",
    "   9. priority\n",
    "   10. resource request for CPU cores\n",
    "   11. resource request for RAM\n",
    "   12. resource request for local disk space\n",
    "   13. different-machine constraint"
   ]
  },
  {
   "cell_type": "code",
   "execution_count": 13,
   "metadata": {
    "scrolled": true
   },
   "outputs": [
    {
     "data": {
      "text/html": [
       "<div>\n",
       "<style scoped>\n",
       "    .dataframe tbody tr th:only-of-type {\n",
       "        vertical-align: middle;\n",
       "    }\n",
       "\n",
       "    .dataframe tbody tr th {\n",
       "        vertical-align: top;\n",
       "    }\n",
       "\n",
       "    .dataframe thead th {\n",
       "        text-align: right;\n",
       "    }\n",
       "</style>\n",
       "<table border=\"1\" class=\"dataframe\">\n",
       "  <thead>\n",
       "    <tr style=\"text-align: right;\">\n",
       "      <th></th>\n",
       "      <th>timestamp</th>\n",
       "      <th>missing_info</th>\n",
       "      <th>job_ID</th>\n",
       "      <th>task_idx</th>\n",
       "      <th>machine_ID</th>\n",
       "      <th>event_type</th>\n",
       "      <th>user</th>\n",
       "      <th>scheduling_class</th>\n",
       "      <th>priority</th>\n",
       "      <th>rrCPU</th>\n",
       "      <th>rrRAM</th>\n",
       "      <th>rrLDS</th>\n",
       "      <th>diff_machine_constraints</th>\n",
       "    </tr>\n",
       "  </thead>\n",
       "  <tbody>\n",
       "    <tr>\n",
       "      <th>0</th>\n",
       "      <td>0</td>\n",
       "      <td>2.0</td>\n",
       "      <td>3418309</td>\n",
       "      <td>0</td>\n",
       "      <td>4.155527e+09</td>\n",
       "      <td>0</td>\n",
       "      <td>70s3v5qRyCO/1PCdI6fVXnrW8FU/w+5CKRSa72xgcIo=</td>\n",
       "      <td>3</td>\n",
       "      <td>9</td>\n",
       "      <td>NaN</td>\n",
       "      <td>NaN</td>\n",
       "      <td>NaN</td>\n",
       "      <td>NaN</td>\n",
       "    </tr>\n",
       "    <tr>\n",
       "      <th>1</th>\n",
       "      <td>0</td>\n",
       "      <td>2.0</td>\n",
       "      <td>3418309</td>\n",
       "      <td>1</td>\n",
       "      <td>3.291507e+08</td>\n",
       "      <td>0</td>\n",
       "      <td>70s3v5qRyCO/1PCdI6fVXnrW8FU/w+5CKRSa72xgcIo=</td>\n",
       "      <td>3</td>\n",
       "      <td>9</td>\n",
       "      <td>NaN</td>\n",
       "      <td>NaN</td>\n",
       "      <td>NaN</td>\n",
       "      <td>NaN</td>\n",
       "    </tr>\n",
       "    <tr>\n",
       "      <th>2</th>\n",
       "      <td>0</td>\n",
       "      <td>NaN</td>\n",
       "      <td>3418314</td>\n",
       "      <td>0</td>\n",
       "      <td>3.938719e+09</td>\n",
       "      <td>0</td>\n",
       "      <td>70s3v5qRyCO/1PCdI6fVXnrW8FU/w+5CKRSa72xgcIo=</td>\n",
       "      <td>3</td>\n",
       "      <td>9</td>\n",
       "      <td>0.125</td>\n",
       "      <td>0.07446</td>\n",
       "      <td>0.000424</td>\n",
       "      <td>0.0</td>\n",
       "    </tr>\n",
       "    <tr>\n",
       "      <th>3</th>\n",
       "      <td>0</td>\n",
       "      <td>NaN</td>\n",
       "      <td>3418314</td>\n",
       "      <td>1</td>\n",
       "      <td>3.516186e+08</td>\n",
       "      <td>0</td>\n",
       "      <td>70s3v5qRyCO/1PCdI6fVXnrW8FU/w+5CKRSa72xgcIo=</td>\n",
       "      <td>3</td>\n",
       "      <td>9</td>\n",
       "      <td>0.125</td>\n",
       "      <td>0.07446</td>\n",
       "      <td>0.000424</td>\n",
       "      <td>0.0</td>\n",
       "    </tr>\n",
       "    <tr>\n",
       "      <th>4</th>\n",
       "      <td>0</td>\n",
       "      <td>2.0</td>\n",
       "      <td>3418319</td>\n",
       "      <td>0</td>\n",
       "      <td>4.310529e+08</td>\n",
       "      <td>0</td>\n",
       "      <td>70s3v5qRyCO/1PCdI6fVXnrW8FU/w+5CKRSa72xgcIo=</td>\n",
       "      <td>3</td>\n",
       "      <td>9</td>\n",
       "      <td>NaN</td>\n",
       "      <td>NaN</td>\n",
       "      <td>NaN</td>\n",
       "      <td>NaN</td>\n",
       "    </tr>\n",
       "  </tbody>\n",
       "</table>\n",
       "</div>"
      ],
      "text/plain": [
       "   timestamp  missing_info   job_ID  task_idx    machine_ID  event_type  \\\n",
       "0          0           2.0  3418309         0  4.155527e+09           0   \n",
       "1          0           2.0  3418309         1  3.291507e+08           0   \n",
       "2          0           NaN  3418314         0  3.938719e+09           0   \n",
       "3          0           NaN  3418314         1  3.516186e+08           0   \n",
       "4          0           2.0  3418319         0  4.310529e+08           0   \n",
       "\n",
       "                                           user  scheduling_class  priority  \\\n",
       "0  70s3v5qRyCO/1PCdI6fVXnrW8FU/w+5CKRSa72xgcIo=                 3         9   \n",
       "1  70s3v5qRyCO/1PCdI6fVXnrW8FU/w+5CKRSa72xgcIo=                 3         9   \n",
       "2  70s3v5qRyCO/1PCdI6fVXnrW8FU/w+5CKRSa72xgcIo=                 3         9   \n",
       "3  70s3v5qRyCO/1PCdI6fVXnrW8FU/w+5CKRSa72xgcIo=                 3         9   \n",
       "4  70s3v5qRyCO/1PCdI6fVXnrW8FU/w+5CKRSa72xgcIo=                 3         9   \n",
       "\n",
       "   rrCPU    rrRAM     rrLDS  diff_machine_constraints  \n",
       "0    NaN      NaN       NaN                       NaN  \n",
       "1    NaN      NaN       NaN                       NaN  \n",
       "2  0.125  0.07446  0.000424                       0.0  \n",
       "3  0.125  0.07446  0.000424                       0.0  \n",
       "4    NaN      NaN       NaN                       NaN  "
      ]
     },
     "execution_count": 13,
     "metadata": {},
     "output_type": "execute_result"
    }
   ],
   "source": [
    "task_events_header = [\"timestamp\", \"missing_info\", \"job_ID\", \"task_idx\", \"machine_ID\", \"event_type\", \"user\", \"scheduling_class\", \"priority\", \"rrCPU\", \"rrRAM\", \"rrLDS\", \"diff_machine_constraints\"]\n",
    "task_events = pd.read_csv('clusterdata-2011-2/task_events/part-00000-of-00500.csv.gz',\n",
    "                            names = task_events_header )\n",
    "\n",
    "task_events.head()"
   ]
  },
  {
   "cell_type": "markdown",
   "metadata": {},
   "source": [
    "First we looked at the distribution of jobs. From the original RDD we create a new one containing only the scheduling class and the job ID. (We call *distinct()* for the same reason as in the previous analysis - there are several events associated with each of these tasks). We call `countByKey()` to count how many different jobs are in each scheduling class (because scheduling class is our key here) and then we just calculate the percentage."
   ]
  },
  {
   "cell_type": "code",
   "execution_count": 15,
   "metadata": {},
   "outputs": [
    {
     "name": "stdout",
     "output_type": "stream",
     "text": [
      "Sheduling class 3 contains 933 jobs: 19.06026557711951 %\n",
      "Sheduling class 2 contains 1419 jobs: 28.98876404494382 %\n",
      "Sheduling class 1 contains 1624 jobs: 33.17671092951992 %\n",
      "Sheduling class 0 contains 919 jobs: 18.774259448416753 %\n"
     ]
    }
   ],
   "source": [
    "task_events = sc.textFile(\"clusterdata-2011-2/task_events/part-00000-of-00500.csv.gz\").map(lambda line: line.split(','))\n",
    "\n",
    "job_ID_idx = findCol(task_events_header, \"job_ID\")\n",
    "schedul_class_idx = findCol(task_events_header, \"scheduling_class\")\n",
    "task_idx = findCol(task_events_header, \"task_idx\")\n",
    "\n",
    "#distribution of jobs\n",
    "data_jobs = task_events.map(lambda x: (x[schedul_class_idx], x[job_ID_idx])).distinct()\n",
    "data_jobs = data_jobs.countByKey()\n",
    "total = sum(data_jobs.values())\n",
    "\n",
    "for x in data_jobs:\n",
    "    print(\"Sheduling class\", x,\"contains\",data_jobs[x],\"jobs:\", data_jobs[x]/total*100, \"%\")\n"
   ]
  },
  {
   "cell_type": "markdown",
   "metadata": {},
   "source": [
    "Now we do the same thing for tasks. The only thing that changes here is that tasks are identified by both the job ID and task ID, so we need both of those fields in our RDD."
   ]
  },
  {
   "cell_type": "code",
   "execution_count": 16,
   "metadata": {},
   "outputs": [
    {
     "name": "stdout",
     "output_type": "stream",
     "text": [
      "Sheduling class 3 contains 28110 tasks: 14.722981678765596 %\n",
      "Sheduling class 2 contains 41873 tasks: 21.931533683207107 %\n",
      "Sheduling class 1 contains 26699 tasks: 13.983951897593833 %\n",
      "Sheduling class 0 contains 94244 tasks: 49.36153274043347 %\n"
     ]
    }
   ],
   "source": [
    "#distribution of tasks\n",
    "data_tasks = task_events.map(lambda x: (x[schedul_class_idx], (x[task_idx],x[job_ID_idx]))).distinct()\n",
    "data_tasks = data_tasks.countByKey()\n",
    "total = sum(data_tasks.values())\n",
    "\n",
    "for x in data_tasks:\n",
    "    print(\"Sheduling class\", x,\"contains\",data_tasks[x],\"tasks:\", data_tasks[x]/total*100, \"%\")"
   ]
  },
  {
   "cell_type": "markdown",
   "metadata": {},
   "source": [
    "Again, for visualization purposes it was easier to make a pandas data frame which will contain the scheduling class and the number of jobs and tasks belonging to that class."
   ]
  },
  {
   "cell_type": "code",
   "execution_count": 17,
   "metadata": {},
   "outputs": [
    {
     "data": {
      "text/html": [
       "<div>\n",
       "<style scoped>\n",
       "    .dataframe tbody tr th:only-of-type {\n",
       "        vertical-align: middle;\n",
       "    }\n",
       "\n",
       "    .dataframe tbody tr th {\n",
       "        vertical-align: top;\n",
       "    }\n",
       "\n",
       "    .dataframe thead th {\n",
       "        text-align: right;\n",
       "    }\n",
       "</style>\n",
       "<table border=\"1\" class=\"dataframe\">\n",
       "  <thead>\n",
       "    <tr style=\"text-align: right;\">\n",
       "      <th></th>\n",
       "      <th>Scheduling class</th>\n",
       "      <th>Number of jobs</th>\n",
       "      <th>Number of tasks</th>\n",
       "    </tr>\n",
       "  </thead>\n",
       "  <tbody>\n",
       "    <tr>\n",
       "      <th>0</th>\n",
       "      <td>3</td>\n",
       "      <td>933</td>\n",
       "      <td>28110</td>\n",
       "    </tr>\n",
       "    <tr>\n",
       "      <th>1</th>\n",
       "      <td>2</td>\n",
       "      <td>1419</td>\n",
       "      <td>41873</td>\n",
       "    </tr>\n",
       "    <tr>\n",
       "      <th>2</th>\n",
       "      <td>1</td>\n",
       "      <td>1624</td>\n",
       "      <td>26699</td>\n",
       "    </tr>\n",
       "    <tr>\n",
       "      <th>3</th>\n",
       "      <td>0</td>\n",
       "      <td>919</td>\n",
       "      <td>94244</td>\n",
       "    </tr>\n",
       "  </tbody>\n",
       "</table>\n",
       "</div>"
      ],
      "text/plain": [
       "  Scheduling class  Number of jobs  Number of tasks\n",
       "0                3             933            28110\n",
       "1                2            1419            41873\n",
       "2                1            1624            26699\n",
       "3                0             919            94244"
      ]
     },
     "execution_count": 17,
     "metadata": {},
     "output_type": "execute_result"
    }
   ],
   "source": [
    "jobs_df = pd.DataFrame()\n",
    "jobs_df['Scheduling class'] = data_jobs.keys()\n",
    "jobs_df['Number of jobs'] = data_jobs.values()\n",
    "tasks_df = pd.DataFrame()\n",
    "tasks_df['Scheduling class'] = data_tasks.keys()\n",
    "tasks_df['Number of tasks'] = data_tasks.values()\n",
    "merged_df = jobs_df.merge(tasks_df)\n",
    "merged_df"
   ]
  },
  {
   "cell_type": "code",
   "execution_count": 26,
   "metadata": {
    "scrolled": true
   },
   "outputs": [
    {
     "data": {
      "text/plain": [
       "<matplotlib.axes._subplots.AxesSubplot at 0x25ccedb3d68>"
      ]
     },
     "execution_count": 26,
     "metadata": {},
     "output_type": "execute_result"
    },
    {
     "data": {
      "image/png": "[encoded data removed]",
      "text/plain": [
       "<Figure size 864x288 with 2 Axes>"
      ]
     },
     "metadata": {
      "needs_background": "light"
     },
     "output_type": "display_data"
    }
   ],
   "source": [
    "#plotting the number of jobs and tasks in each scheduling class\n",
    "_, axes = plt.subplots(1, 2, figsize=(12, 4))\n",
    "sns.barplot('Scheduling class', 'Number of jobs', data=merged_df, ax=axes[0])\n",
    "sns.barplot('Scheduling class', 'Number of tasks', data=merged_df, ax=axes[1])"
   ]
  },
  {
   "cell_type": "markdown",
   "metadata": {},
   "source": [
    "From this graph we see that, in terms of jobs, most of them belong to classes 1 and 2 and there are fewer in classes 0 and 3. However, when it comes to tasks, significantly more belong to class 0 than to other three classes."
   ]
  },
  {
   "cell_type": "markdown",
   "metadata": {
    "collapsed": true
   },
   "source": [
    "#### The percentage of tasks that got killed or evicted depending on the scheduling class\n",
    "The scheduling class roughly represents how latency-sensitive a job is. Class 3 are tasks that are the most latency-sensitive, whereas class 0 are non-production tasks.\n",
    "\n",
    "For this analysis we are using **Task events** again. The key in our new RDD is the scheduling class, the job ID and the task ID, and the other column we have is the event type. After grouping by key, what we get is a list of all the events associated with each of our keys. *Event type 5* corresponds to a killed task, and *event type 2* corresponds to an evicted task, so we filter those. Then we create a new RDD with just the scheduling class, job ID and task ID, and we do `countByKey()` to get the number of killed/evicted tasks in each scheduling class. We also create a RDD with total number of tasks in each scheduling class.\n",
    "\n",
    "Next, we go through this RDD and for each scheduling class we devide the *number of killed tasks in that class* with the *total number of tasks in that class*. The reason we are diving by this instead of *total number of killed tasks* (which was our first intuition) is because in that case our results would have been biased. If there are significantly more tasks in one class than the other then the number of killed tasks is likely to be bigger as well. Because of that, we divide by the number of tasks in a given class. With this, we are getting the probability of a task to be killed if it is in a certain class (how many tasks in a given class were killed).\n",
    "\n",
    "We do the same for evicted tasks. In the end, we just save these numbers to a pandas data frame."
   ]
  },
  {
   "cell_type": "code",
   "execution_count": 24,
   "metadata": {},
   "outputs": [
    {
     "data": {
      "text/html": [
       "<div>\n",
       "<style scoped>\n",
       "    .dataframe tbody tr th:only-of-type {\n",
       "        vertical-align: middle;\n",
       "    }\n",
       "\n",
       "    .dataframe tbody tr th {\n",
       "        vertical-align: top;\n",
       "    }\n",
       "\n",
       "    .dataframe thead th {\n",
       "        text-align: right;\n",
       "    }\n",
       "</style>\n",
       "<table border=\"1\" class=\"dataframe\">\n",
       "  <thead>\n",
       "    <tr style=\"text-align: right;\">\n",
       "      <th></th>\n",
       "      <th>Scheduling class</th>\n",
       "      <th>killed tasks %</th>\n",
       "      <th>evicted tasks %</th>\n",
       "    </tr>\n",
       "  </thead>\n",
       "  <tbody>\n",
       "    <tr>\n",
       "      <th>0</th>\n",
       "      <td>3</td>\n",
       "      <td>0.953</td>\n",
       "      <td>0.064</td>\n",
       "    </tr>\n",
       "    <tr>\n",
       "      <th>1</th>\n",
       "      <td>2</td>\n",
       "      <td>0.798</td>\n",
       "      <td>1.163</td>\n",
       "    </tr>\n",
       "    <tr>\n",
       "      <th>2</th>\n",
       "      <td>0</td>\n",
       "      <td>5.066</td>\n",
       "      <td>2.881</td>\n",
       "    </tr>\n",
       "    <tr>\n",
       "      <th>3</th>\n",
       "      <td>1</td>\n",
       "      <td>0.667</td>\n",
       "      <td>2.637</td>\n",
       "    </tr>\n",
       "  </tbody>\n",
       "</table>\n",
       "</div>"
      ],
      "text/plain": [
       "   Scheduling class  killed tasks %  evicted tasks %\n",
       "0                 3           0.953            0.064\n",
       "1                 2           0.798            1.163\n",
       "2                 0           5.066            2.881\n",
       "3                 1           0.667            2.637"
      ]
     },
     "execution_count": 24,
     "metadata": {},
     "output_type": "execute_result"
    }
   ],
   "source": [
    "#ditribution of killed/evicted tasks \n",
    "task_events_header = [\"timestamp\", \"missing_info\", \"job_ID\", \"task_idx\", \"machine_ID\", \"event_type\", \"user\", \"scheduling_class\", \"priority\", \"rrCPU\", \"rrRAM\", \"rrLDS\", \"diff_machine_constraints\"]\n",
    "task_events = sc.textFile(\"clusterdata-2011-2/task_events/part-00000-of-00500.csv.gz\").map(lambda line: line.split(','))\n",
    "\n",
    "eventType_index = findCol(task_events_header, \"event_type\")\n",
    "job_ID_idx = findCol(task_events_header, \"job_ID\")\n",
    "task_idx = findCol(task_events_header, \"task_idx\")\n",
    "schedul_class_idx = findCol(task_events_header, \"scheduling_class\")\n",
    "\n",
    "\n",
    "data = task_events.map(lambda x: ((x[schedul_class_idx], x[job_ID_idx], x[task_idx]), x[eventType_index]))\n",
    "tasks = data.groupByKey()\n",
    "\n",
    "killed_tasks = tasks.filter(lambda x: '5' in x[1].data)\n",
    "evicted_tasks = tasks.filter(lambda x: '2' in x[1].data)\n",
    "\n",
    "killed_by_class = killed_tasks.map(lambda x: (x[0][0], x[0][1], x[0][2])).countByKey()\n",
    "evicted_by_class = evicted_tasks.map(lambda x: (x[0][0], x[0][1], x[0][2])).countByKey()\n",
    "total_by_class = tasks.map(lambda x: (x[0][0], x[0][1], x[0][2])).countByKey()\n",
    "\n",
    "head = ['Scheduling class', 'killed tasks %', 'evicted tasks %']\n",
    "table=[]\n",
    "for x in killed_by_class.keys():\n",
    "    table.append([x, round(killed_by_class[x]/total_by_class[x]*100,3), round(evicted_by_class[x]/total_by_class[x]*100,3)])\n",
    "\n",
    "data = np.array(table)\n",
    "df = pd.DataFrame(data)\n",
    "df.columns = head\n",
    "#converting them because they are strings\n",
    "df[\"Scheduling class\"] = df[\"Scheduling class\"].astype(int)\n",
    "df[\"killed tasks %\"] = df[\"killed tasks %\"].astype(float)\n",
    "df[\"evicted tasks %\"] = df[\"evicted tasks %\"].astype(float)\n",
    "df.head()"
   ]
  },
  {
   "cell_type": "markdown",
   "metadata": {},
   "source": [
    "We used a barplot to visualize these numbers."
   ]
  },
  {
   "cell_type": "code",
   "execution_count": 25,
   "metadata": {
    "scrolled": true
   },
   "outputs": [
    {
     "data": {
      "text/plain": [
       "<BarContainer object of 4 artists>"
      ]
     },
     "execution_count": 25,
     "metadata": {},
     "output_type": "execute_result"
    },
    {
     "data": {
      "image/png": "[encoded data removed]",
      "text/plain": [
       "<Figure size 432x288 with 1 Axes>"
      ]
     },
     "metadata": {
      "needs_background": "light"
     },
     "output_type": "display_data"
    }
   ],
   "source": [
    "plt.bar(df['Scheduling class'], df['killed tasks %'], label = 'Killed', tick_label = df['Scheduling class'], width=0.3, align='edge', color='r')\n",
    "plt.bar(df['Scheduling class'], df['evicted tasks %'], label = 'Evicted', tick_label = df['Scheduling class'], width=-0.3, align='edge', color='c')"
   ]
  },
  {
   "cell_type": "markdown",
   "metadata": {},
   "source": [
    "Looking at this graph or the table above, we can see that the number of tasks that were killed or evicted depends on the scheduling class. \n",
    "The x-axis represents different scheduling classes and the y-axis represents the percentage of jobs that were killed or evicted in that scheduling class. Red bars are killed tasks and blue bars are evicted tasks. "
   ]
  },
  {
   "cell_type": "markdown",
   "metadata": {},
   "source": [
    "The percentage of killed tasks in scheduling class 0 is significantly bigger than in other classes. For the remaining three the number is similar, below 1%. For evicted tasks we can see that the number in classes 0 and 1 is the biggest and that in class 3 it is very small."
   ]
  },
  {
   "cell_type": "markdown",
   "metadata": {},
   "source": [
    "#### Do tasks with low priority have a higher probability of being evicted?\n",
    "Here we used the **Task events** table again because it also has information about the priority of the tasks. We are doing a similar analysis as before, but instead of using the scheduling class column, we are using the priority column. We again filter the tasks for which we have *event type 2* (which means they were evicted) and then for each priority divide the number of evicted tasks of given priority with the total number of tasks of that priority.\n",
    "<br>Here we only have information about 5 classes because we are not using all of the files and we are also filtering only the evicted tasks, so some classes get lost after this filtering."
   ]
  },
  {
   "cell_type": "code",
   "execution_count": 32,
   "metadata": {},
   "outputs": [
    {
     "data": {
      "text/html": [
       "<div>\n",
       "<style scoped>\n",
       "    .dataframe tbody tr th:only-of-type {\n",
       "        vertical-align: middle;\n",
       "    }\n",
       "\n",
       "    .dataframe tbody tr th {\n",
       "        vertical-align: top;\n",
       "    }\n",
       "\n",
       "    .dataframe thead th {\n",
       "        text-align: right;\n",
       "    }\n",
       "</style>\n",
       "<table border=\"1\" class=\"dataframe\">\n",
       "  <thead>\n",
       "    <tr style=\"text-align: right;\">\n",
       "      <th></th>\n",
       "      <th>Priority</th>\n",
       "      <th>number of evicted tasks</th>\n",
       "      <th>total number of tasks</th>\n",
       "      <th>evicted tasks %</th>\n",
       "    </tr>\n",
       "  </thead>\n",
       "  <tbody>\n",
       "    <tr>\n",
       "      <th>0</th>\n",
       "      <td>10</td>\n",
       "      <td>1</td>\n",
       "      <td>811</td>\n",
       "      <td>0.123</td>\n",
       "    </tr>\n",
       "    <tr>\n",
       "      <th>1</th>\n",
       "      <td>0</td>\n",
       "      <td>3799</td>\n",
       "      <td>46226</td>\n",
       "      <td>8.218</td>\n",
       "    </tr>\n",
       "    <tr>\n",
       "      <th>2</th>\n",
       "      <td>1</td>\n",
       "      <td>49</td>\n",
       "      <td>18122</td>\n",
       "      <td>0.270</td>\n",
       "    </tr>\n",
       "    <tr>\n",
       "      <th>3</th>\n",
       "      <td>9</td>\n",
       "      <td>22</td>\n",
       "      <td>48992</td>\n",
       "      <td>0.045</td>\n",
       "    </tr>\n",
       "    <tr>\n",
       "      <th>4</th>\n",
       "      <td>2</td>\n",
       "      <td>53</td>\n",
       "      <td>66868</td>\n",
       "      <td>0.079</td>\n",
       "    </tr>\n",
       "  </tbody>\n",
       "</table>\n",
       "</div>"
      ],
      "text/plain": [
       "  Priority  number of evicted tasks  total number of tasks  evicted tasks %\n",
       "0       10                        1                    811            0.123\n",
       "1        0                     3799                  46226            8.218\n",
       "2        1                       49                  18122            0.270\n",
       "3        9                       22                  48992            0.045\n",
       "4        2                       53                  66868            0.079"
      ]
     },
     "execution_count": 32,
     "metadata": {},
     "output_type": "execute_result"
    }
   ],
   "source": [
    "#tasks and their events according to priority \n",
    "task_events_header = [\"timestamp\", \"missing_info\", \"job_ID\", \"task_idx\", \"machine_ID\", \"event_type\", \"user\", \"scheduling_class\", \"priority\", \"rrCPU\", \"rrRAM\", \"rrLDS\", \"diff_machine_constraints\"]\n",
    "task_events = sc.textFile(\"clusterdata-2011-2/task_events/part-00000-of-00500.csv.gz\").map(lambda line: line.split(','))\n",
    "\n",
    "eventType_index = findCol(task_events_header, \"event_type\")\n",
    "job_ID_idx = findCol(task_events_header, \"job_ID\")\n",
    "task_idx = findCol(task_events_header, \"task_idx\")\n",
    "priority_idx = findCol(task_events_header, \"priority\")\n",
    "\n",
    "data = task_events.map(lambda x: ((x[priority_idx], x[job_ID_idx], x[task_idx]), x[eventType_index])).groupByKey()\n",
    "evicted_tasks = data.filter(lambda x: '2' in x[1])\n",
    "\n",
    "evicted_by_priority = evicted_tasks.map(lambda x: (x[0][0], x[0][1], x[0][2])).countByKey()\n",
    "total_by_priority = data.map(lambda x: (x[0][0], x[0][1], x[0][2])).countByKey()\n",
    "\n",
    "table=[]\n",
    "for x in evicted_by_priotity.keys():\n",
    "    table.append([x, evicted_by_priority[x], total_by_priority[x], round(evicted_by_priority[x]/total_by_priority[x]*100, 3)])\n",
    "    \n",
    "np_table = np.array(table)\n",
    "df = pd.DataFrame(np_table)\n",
    "df.columns = [\"Priority\", \"number of evicted tasks\", \"total number of tasks\", \"evicted tasks %\"]\n",
    "#converting them because they are strings\n",
    "df[\"number of evicted tasks\"] = df[\"number of evicted tasks\"].astype(int)\n",
    "df[\"total number of tasks\"] = df[\"total number of tasks\"].astype(int)\n",
    "df[\"evicted tasks %\"] = df[\"evicted tasks %\"].astype(float)\n",
    "df.head()"
   ]
  },
  {
   "cell_type": "code",
   "execution_count": 33,
   "metadata": {},
   "outputs": [
    {
     "data": {
      "text/plain": [
       "<BarContainer object of 5 artists>"
      ]
     },
     "execution_count": 33,
     "metadata": {},
     "output_type": "execute_result"
    },
    {
     "data": {
      "image/png": "[encoded data removed]",
      "text/plain": [
       "<Figure size 432x288 with 1 Axes>"
      ]
     },
     "metadata": {
      "needs_background": "light"
     },
     "output_type": "display_data"
    }
   ],
   "source": [
    "plt.bar(df['Priority'], df['evicted tasks %'], tick_label = df['Priority'])"
   ]
  },
  {
   "cell_type": "markdown",
   "metadata": {},
   "source": [
    "We see that tasks with lower priority have a higher chance of being evicted, especially those with priority 0, which are significantly more likely to be evicted than those with higher priority."
   ]
  },
  {
   "cell_type": "markdown",
   "metadata": {
    "collapsed": true
   },
   "source": [
    "#### In general, do tasks from the same job run on the same machine?\n",
    "For this analysis we will use the same table again and only look at job ID, task ID and machine ID. Our idea for this analysis was to count the number of *tasks per job* using the `countByKey()` function where the key is the jobID after mapping, and then also count the number of *different machines per job*. Next, we compare these two values by subtracting the number of machines per job from the number of tasks per job. If these two numbers are equal that means that all tasks of a given job run on different machines. However, if they are different, that means that we have more tasks running on the same machine. We do a sum of these differences and divide it by the total number of tasks. This gives us a percentage of *how often tasks of the same job were running on the same machine.*"
   ]
  },
  {
   "cell_type": "code",
   "execution_count": 50,
   "metadata": {},
   "outputs": [
    {
     "name": "stdout",
     "output_type": "stream",
     "text": [
      "Tasks of the same job run on the same machine  6.801 % of the time.\n"
     ]
    }
   ],
   "source": [
    "task_events_header = [\"timestamp\", \"missing_info\", \"job_ID\", \"task_idx\", \"machine_ID\", \"event_type\", \"user\", \"scheduling_class\", \"priority\", \"rrCPU\", \"rrRAM\", \"rrLDS\", \"diff_machine_constraints\"]\n",
    "task_events = sc.textFile(\"clusterdata-2011-2/task_events/part-00000-of-00500.csv.gz\").map(lambda line: line.split(','))\n",
    "\n",
    "job_ID_idx = findCol(task_events_header, \"job_ID\")\n",
    "machine_ID_idx = findCol(task_events_header, \"machine_ID\")\n",
    "task_idx = findCol(task_events_header, \"task_idx\")\n",
    "\n",
    "#for some tasks, we don't have information about which machine they run on, so we filter those out \n",
    "data = task_events.filter(lambda x: x[machine_ID_idx] != '')\n",
    "\n",
    "tasks_per_job = data.map(lambda x: (x[job_ID_idx], x[task_idx])).distinct().countByKey()\n",
    "machines_per_job = data.map(lambda x: (x[job_ID_idx], x[machine_ID_idx])).distinct().countByKey()\n",
    "\n",
    "task_machine_difference = np.sum(np.subtract(list(tasks_per_job.values()), list(machines_per_job.values())))\n",
    "total_tasks = np.sum(list(tasks_per_job.values()))\n",
    "\n",
    "print(\"Tasks of the same job run on the same machine \", round(task_machine_difference/total_tasks*100, 3), \"% of the time.\")"
   ]
  },
  {
   "cell_type": "markdown",
   "metadata": {},
   "source": [
    "We see here that tasks of the same job generally **do not** run on the same machine in a Google cluster."
   ]
  },
  {
   "cell_type": "markdown",
   "metadata": {},
   "source": [
    "#### Are there tasks that consume signiﬁcantly less resources than what they requested? "
   ]
  },
  {
   "cell_type": "markdown",
   "metadata": {},
   "source": [
    "For this analysis we are going to use the **Task events** table again and also the **Task usage** table, which has the following fields:\n",
    "\n",
    "   1. start time of the measurement period\n",
    "   2. end time of the measurement period\n",
    "   3. job ID\n",
    "   4. task index\n",
    "   5. machine ID\n",
    "   6. mean CPU usage rate\n",
    "   7. canonical memory usage\n",
    "   8. assigned memory usage\n",
    "   9. unmapped page cache memory usage\n",
    "   10. total page cache memory usage\n",
    "   11. maximum memory usage\n",
    "   12. mean disk I/O time\n",
    "   13. mean local disk space used\n",
    "   14. maximum CPU usage\n",
    "   15. maximum disk IO time\n",
    "   16. cycles per instruction (CPI)\n",
    "   17. memory accesses per instruction (MAI)\n",
    "   18. sample portion\n",
    "   19. aggregation type\n",
    "   20. sampled CPU usage    \n",
    "   \n",
    "From the **Task events** table we extracted the information about the requested CPU and memory for each task into separate RDDs.\n",
    "Since there can be multiple different values due to several measurements, we only consider the maximum value for each task."
   ]
  },
  {
   "cell_type": "code",
   "execution_count": 57,
   "metadata": {},
   "outputs": [],
   "source": [
    "task_events_header = [\"timestamp\", \"missing_info\", \"job_ID\", \"task_idx\", \"machine_ID\", \"event_type\", \"user\", \"scheduling_class\", \"priority\", \"rrCPU\", \"rrRAM\", \"rrLDS\", \"diff_machine_constraints\"]\n",
    "task_events = sc.textFile(\"clusterdata-2011-2/task_events/part-00000-of-00500.csv.gz\").map(lambda line: line.split(','))\n",
    "\n",
    "job_ID_idx = findCol(task_events_header, \"job_ID\")\n",
    "task_idx = findCol(task_events_header, \"task_idx\")\n",
    "req_cpu_idx = findCol(task_events_header, \"rrCPU\")\n",
    "req_mem_idx = findCol(task_events_header, \"rrRAM\")\n",
    "\n",
    "requested_cpu = task_events.map(lambda x: ((x[job_ID_idx], x[task_idx]), x[req_cpu_idx])).groupByKey().mapValues(max)\n",
    "requested_mem = task_events.map(lambda x: ((x[job_ID_idx], x[task_idx]), x[req_mem_idx])).groupByKey().mapValues(max)\n"
   ]
  },
  {
   "cell_type": "markdown",
   "metadata": {},
   "source": [
    "From the **Task usage** table we extracted information about the usage of CPU and memory for each task in a similar manner. Since these value was measured several times for each task (indicated by start and end event time fields), we would get a list for each task, so we again look for the maximum value."
   ]
  },
  {
   "cell_type": "code",
   "execution_count": 58,
   "metadata": {},
   "outputs": [],
   "source": [
    "task_usage_header = [\"start_time\", \"end_time\", \"job_ID\", \"task_idx\", \"machine_ID\", \"mean_cpu\", \"canonical_memory\", \"assigned_memory\", \"unmapped_page_cache\", \"total_page_cache\", \"maximum_memory\", \"mean_disk_io\", \"mean_local_disk\", \"max_cpu\", \"max_disk_io\", \"CPI\", \"MAI\", \"sample_portion\", \"aggregation_type\", \"sampled_cpu_usage\"]\n",
    "task_usage = sc.textFile(\"clusterdata-2011-2/task_usage/part-00000-of-00500.csv.gz\").map(lambda line: line.split(','))\n",
    "\n",
    "max_mem_idx = findCol(task_usage_header, \"maximum_memory\")\n",
    "max_cpu_idx = findCol(task_usage_header, \"max_cpu\")\n",
    "mean_lds_idx = findCol(task_usage_header, \"mean_local_disk\")\n",
    "\n",
    "#taking only the maximum value of each resource for each task\n",
    "tasks_max_mem = task_usage.map(lambda x: ((x[2], x[3]), (x[max_mem_idx]))).groupByKey().mapValues(max)\n",
    "tasks_max_cpu = task_usage.map(lambda x: ((x[2], x[3]), (x[max_cpu_idx]))).groupByKey().mapValues(max)\n"
   ]
  },
  {
   "cell_type": "markdown",
   "metadata": {},
   "source": [
    "Next, we use `join()` to create a single RDD which will contain information about both requested and used CPU. We also use the `map()` function to give us the difference between these two values."
   ]
  },
  {
   "cell_type": "code",
   "execution_count": 71,
   "metadata": {},
   "outputs": [
    {
     "data": {
      "text/plain": [
       "[(('3418309', '0'), '0.125', '0.07849', 0.046509999999999996),\n",
       " (('3418309', '1'), '0.125', '0.04156', 0.08344),\n",
       " (('3418314', '0'), '0.125', '0.03302', 0.09198),\n",
       " (('3418314', '1'), '0.125', '0.03491', 0.09009),\n",
       " (('3418319', '0'), '0.03125', '0.02875', 0.0024999999999999988)]"
      ]
     },
     "execution_count": 71,
     "metadata": {},
     "output_type": "execute_result"
    }
   ],
   "source": [
    "cpu_data = requested_cpu.join(tasks_max_cpu)\n",
    "cpu_data = cpu_data.map(lambda x: ((x[0][0], x[0][1]), x[1][0], x[1][1], float(x[1][0])-float(x[1][1])))\n",
    "cpu_data.take(5)"
   ]
  },
  {
   "cell_type": "markdown",
   "metadata": {},
   "source": [
    "We do the same thing for requested and used memory."
   ]
  },
  {
   "cell_type": "code",
   "execution_count": 81,
   "metadata": {},
   "outputs": [
    {
     "data": {
      "text/plain": [
       "[(('3418309', '0'), '0.07446', '0.06787', 0.006589999999999999),\n",
       " (('3418309', '1'), '0.07446', '0.06787', 0.006589999999999999),\n",
       " (('3418314', '0'), '0.09473', '0.08044', 0.014289999999999997),\n",
       " (('3418314', '1'), '0.09473', '0.08044', 0.014289999999999997),\n",
       " (('3418319', '0'), '0.08691', '0.07715', 0.009760000000000005)]"
      ]
     },
     "execution_count": 81,
     "metadata": {},
     "output_type": "execute_result"
    }
   ],
   "source": [
    "mem_data = requested_mem.join(tasks_max_mem)\n",
    "mem_data = mem_data.map(lambda x: ((x[0][0], x[0][1]), x[1][0], x[1][1], float(x[1][0])-float(x[1][1])))\n",
    "mem_data.take(5)"
   ]
  },
  {
   "cell_type": "code",
   "execution_count": 82,
   "metadata": {},
   "outputs": [],
   "source": [
    "total_cpu = cpu_data.count()\n",
    "total_mem = mem_data.count()"
   ]
  },
  {
   "cell_type": "markdown",
   "metadata": {},
   "source": [
    "In order to compute how many tasks consume less resources than they requested, we needed to set a certain treshold. Depending on this threshold the results we get are different and since these values are normalized and sort of abstract it is hard to tell what is the right threshold to choose. \n",
    "\n",
    "Therefore, we ran the analysis with different thresholds (`0.05`, `0.1` and `0.2`) and compared the results we got."
   ]
  },
  {
   "cell_type": "code",
   "execution_count": 83,
   "metadata": {},
   "outputs": [
    {
     "data": {
      "text/html": [
       "<div>\n",
       "<style scoped>\n",
       "    .dataframe tbody tr th:only-of-type {\n",
       "        vertical-align: middle;\n",
       "    }\n",
       "\n",
       "    .dataframe tbody tr th {\n",
       "        vertical-align: top;\n",
       "    }\n",
       "\n",
       "    .dataframe thead th {\n",
       "        text-align: right;\n",
       "    }\n",
       "</style>\n",
       "<table border=\"1\" class=\"dataframe\">\n",
       "  <thead>\n",
       "    <tr style=\"text-align: right;\">\n",
       "      <th></th>\n",
       "      <th>Threshold</th>\n",
       "      <th>greater than threshold (CPU)</th>\n",
       "      <th>greater than threshold (memory)</th>\n",
       "    </tr>\n",
       "  </thead>\n",
       "  <tbody>\n",
       "    <tr>\n",
       "      <th>0</th>\n",
       "      <td>0.05</td>\n",
       "      <td>11.284812</td>\n",
       "      <td>11.313793</td>\n",
       "    </tr>\n",
       "    <tr>\n",
       "      <th>1</th>\n",
       "      <td>0.1</td>\n",
       "      <td>2.527490</td>\n",
       "      <td>1.864825</td>\n",
       "    </tr>\n",
       "    <tr>\n",
       "      <th>2</th>\n",
       "      <td>0.2</td>\n",
       "      <td>0.287582</td>\n",
       "      <td>0.226833</td>\n",
       "    </tr>\n",
       "  </tbody>\n",
       "</table>\n",
       "</div>"
      ],
      "text/plain": [
       "  Threshold  greater than threshold (CPU)  greater than threshold (memory)\n",
       "0      0.05                     11.284812                        11.313793\n",
       "1       0.1                      2.527490                         1.864825\n",
       "2       0.2                      0.287582                         0.226833"
      ]
     },
     "execution_count": 83,
     "metadata": {},
     "output_type": "execute_result"
    }
   ],
   "source": [
    "table = []\n",
    "for i in [0.05, 0.1, 0.2]:\n",
    "    table.append([i, cpu_data.filter(lambda x: (float(x[3]) > i)).count()/total_cpu*100, mem_data.filter(lambda x: (float(x[3]) > i)).count()/total_mem*100])\n",
    "\n",
    "np_table = np.array(table)\n",
    "df = pd.DataFrame(np_table)\n",
    "df.columns = [\"Threshold\", \"greater than threshold (CPU)\", \"greater than threshold (memory)\"]\n",
    "df[\"Threshold\"] = df[\"Threshold\"].astype(str)\n",
    "df[\"greater than threshold (CPU)\"] = df[\"greater than threshold (CPU)\"].astype(float)\n",
    "df[\"greater than threshold (memory)\"] = df[\"greater than threshold (memory)\"].astype(float)\n",
    "df.head()"
   ]
  },
  {
   "cell_type": "markdown",
   "metadata": {},
   "source": [
    "The numbers we are getting are almost the same for CPU and memory in each case, which is expected. It means that there is a correlation between CPU and memory usage."
   ]
  },
  {
   "cell_type": "code",
   "execution_count": 78,
   "metadata": {},
   "outputs": [
    {
     "data": {
      "text/plain": [
       "<BarContainer object of 3 artists>"
      ]
     },
     "execution_count": 78,
     "metadata": {},
     "output_type": "execute_result"
    },
    {
     "data": {
      "image/png": "[encoded data removed]",
      "text/plain": [
       "<Figure size 432x288 with 1 Axes>"
      ]
     },
     "metadata": {
      "needs_background": "light"
     },
     "output_type": "display_data"
    }
   ],
   "source": [
    "plt.bar(df['Threshold'], df['greater than threshold (CPU)'], label = 'CPU', tick_label = df['Threshold'], width=0.3, align='edge', color='g')\n",
    "plt.bar(df['Threshold'], df['greater than threshold (memory)'], label = 'Memory', tick_label = df['Threshold'], width=-0.3, align='edge', color='y')"
   ]
  },
  {
   "cell_type": "markdown",
   "metadata": {},
   "source": [
    "From this graph we can see that if we put `0.05` as the threshold, we get that around 10% of tasks use more resources than they requested. If we increase the threshold to `0.1`, the percentage drops signficantly, to about 2% of tasks. Finally, we see that only a very small number of tasks - around 0.2% - exceeds the threshold of `0.2`"
   ]
  },
  {
   "cell_type": "code",
   "execution_count": null,
   "metadata": {},
   "outputs": [],
   "source": []
  }
 ],
 "metadata": {
  "kernelspec": {
   "display_name": "Python 3",
   "language": "python",
   "name": "python3"
  },
  "language_info": {
   "codemirror_mode": {
    "name": "ipython",
    "version": 3
   },
   "file_extension": ".py",
   "mimetype": "text/x-python",
   "name": "python",
   "nbconvert_exporter": "python",
   "pygments_lexer": "ipython3",
   "version": "3.7.0"
  }
 },
 "nbformat": 4,
 "nbformat_minor": 2
}
