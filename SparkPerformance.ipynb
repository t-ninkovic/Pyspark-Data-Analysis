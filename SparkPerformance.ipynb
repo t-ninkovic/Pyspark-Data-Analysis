{
 "cells": [
  {
   "cell_type": "markdown",
   "metadata": {},
   "source": [
    "## Studying the performance of Spark\n",
    "\n",
    "### Students:\n",
    "- Kawtar LAGHDAF\n",
    "- Tijana NINKOVIC"
   ]
  },
  {
   "cell_type": "code",
   "execution_count": 1,
   "metadata": {},
   "outputs": [],
   "source": [
    "import sys\n",
    "import findspark\n",
    "findspark.init()\n",
    "findspark.find()\n",
    "import pyspark\n",
    "findspark.find()\n",
    "from pyspark import SparkContext\n",
    "import time\n",
    "from operator import add\n",
    "import numpy as np\n",
    "import pandas as pd"
   ]
  },
  {
   "cell_type": "code",
   "execution_count": 2,
   "metadata": {},
   "outputs": [],
   "source": [
    "sc = SparkContext(\"local[3]\")\n",
    "sc.setLogLevel(\"ERROR\")"
   ]
  },
  {
   "cell_type": "code",
   "execution_count": 3,
   "metadata": {},
   "outputs": [],
   "source": [
    "from pyspark.sql import *\n",
    "spark = SparkSession(sc)"
   ]
  },
  {
   "cell_type": "markdown",
   "metadata": {},
   "source": [
    "### Comparing Spark and Pandas\n",
    "\n",
    "We chose to study Spark DataFrames and compare them to the Pandas library.<br>\n",
    "A few key differences between Spark DataFrames and Pandas are:\n",
    "> Pandas data frame is not distributed and Spark DataFrame is. Therefore, when working with large amounts of data, Spark will outperform Pandas.\n",
    "<br><br>\n",
    "> Spark DataFrame is resilient and assures fault tolerance, whereas Pandas data frame does not. This is because in case of failure Spark can regenerate the failed result from lineage. Pandas does not have this feature."
   ]
  },
  {
   "cell_type": "markdown",
   "metadata": {},
   "source": [
    "Spark's DataFrames are designed for processing large amounts of structured or semi-structured data.\n",
    "It has the ability to handle petabytes of data. It has support for wide range of data formats and sources.\n",
    "<br>\n",
    "DataFrames are distributed which makes them highly available and fault tolerant. They also have lazy evaluation like RDDs, meaning that execution won't start until an action is triggered. DataFrames are also immutable, which means that once created, they cannot be changed. The values can, however, be transformed by applying transformations, just like in RDDs."
   ]
  },
  {
   "cell_type": "markdown",
   "metadata": {},
   "source": [
    "First, let's look at how similar these two libraries are by doing some simple analysis in both of them."
   ]
  },
  {
   "cell_type": "code",
   "execution_count": 4,
   "metadata": {},
   "outputs": [
    {
     "name": "stdout",
     "output_type": "stream",
     "text": [
      "+---------+----------+----------+--------------------+------------+---------------+\n",
      "|timestamp|machine_ID|event_type|         platform_ID|capacity_CPU|capacity_memory|\n",
      "+---------+----------+----------+--------------------+------------+---------------+\n",
      "|        0|         5|         0|HofLGzk1Or/8Ildj2...|         0.5|         0.2493|\n",
      "|        0|         6|         0|HofLGzk1Or/8Ildj2...|         0.5|         0.2493|\n",
      "|        0|         7|         0|HofLGzk1Or/8Ildj2...|         0.5|         0.2493|\n",
      "|        0|        10|         0|HofLGzk1Or/8Ildj2...|         0.5|         0.2493|\n",
      "|        0|        13|         0|HofLGzk1Or/8Ildj2...|         0.5|         0.2493|\n",
      "+---------+----------+----------+--------------------+------------+---------------+\n",
      "only showing top 5 rows\n",
      "\n"
     ]
    }
   ],
   "source": [
    "machine_events_header = [\"timestamp\", \"machine_ID\", \"event_type\", \"platform_ID\", \"capacity_CPU\", \"capacity_memory\"]\n",
    "#Loading data set with Spark DataFrame with read.csv\n",
    "machine_events_spark = spark.read.csv('clusterdata-2011-2/machine_events/part-00000-of-00001.csv.gz')\n",
    "machine_events_spark = machine_events_spark.withColumnRenamed(\"_c0\", \"timestamp\")\n",
    "machine_events_spark = machine_events_spark.withColumnRenamed(\"_c1\", \"machine_ID\")\n",
    "machine_events_spark = machine_events_spark.withColumnRenamed(\"_c2\", \"event_type\")\n",
    "machine_events_spark = machine_events_spark.withColumnRenamed(\"_c3\", \"platform_ID\")\n",
    "machine_events_spark = machine_events_spark.withColumnRenamed(\"_c4\", \"capacity_CPU\")\n",
    "machine_events_spark = machine_events_spark.withColumnRenamed(\"_c5\", \"capacity_memory\")\n",
    "machine_events_spark.show(5)"
   ]
  },
  {
   "cell_type": "code",
   "execution_count": 5,
   "metadata": {},
   "outputs": [
    {
     "data": {
      "text/html": [
       "<div>\n",
       "<style scoped>\n",
       "    .dataframe tbody tr th:only-of-type {\n",
       "        vertical-align: middle;\n",
       "    }\n",
       "\n",
       "    .dataframe tbody tr th {\n",
       "        vertical-align: top;\n",
       "    }\n",
       "\n",
       "    .dataframe thead th {\n",
       "        text-align: right;\n",
       "    }\n",
       "</style>\n",
       "<table border=\"1\" class=\"dataframe\">\n",
       "  <thead>\n",
       "    <tr style=\"text-align: right;\">\n",
       "      <th></th>\n",
       "      <th>timestamp</th>\n",
       "      <th>machine_ID</th>\n",
       "      <th>event_type</th>\n",
       "      <th>platform_ID</th>\n",
       "      <th>capacity_CPU</th>\n",
       "      <th>capacity_memory</th>\n",
       "    </tr>\n",
       "  </thead>\n",
       "  <tbody>\n",
       "    <tr>\n",
       "      <th>0</th>\n",
       "      <td>0</td>\n",
       "      <td>5</td>\n",
       "      <td>0</td>\n",
       "      <td>HofLGzk1Or/8Ildj2+Lqv0UGGvY82NLoni8+J/Yy0RU=</td>\n",
       "      <td>0.5</td>\n",
       "      <td>0.2493</td>\n",
       "    </tr>\n",
       "    <tr>\n",
       "      <th>1</th>\n",
       "      <td>0</td>\n",
       "      <td>6</td>\n",
       "      <td>0</td>\n",
       "      <td>HofLGzk1Or/8Ildj2+Lqv0UGGvY82NLoni8+J/Yy0RU=</td>\n",
       "      <td>0.5</td>\n",
       "      <td>0.2493</td>\n",
       "    </tr>\n",
       "    <tr>\n",
       "      <th>2</th>\n",
       "      <td>0</td>\n",
       "      <td>7</td>\n",
       "      <td>0</td>\n",
       "      <td>HofLGzk1Or/8Ildj2+Lqv0UGGvY82NLoni8+J/Yy0RU=</td>\n",
       "      <td>0.5</td>\n",
       "      <td>0.2493</td>\n",
       "    </tr>\n",
       "    <tr>\n",
       "      <th>3</th>\n",
       "      <td>0</td>\n",
       "      <td>10</td>\n",
       "      <td>0</td>\n",
       "      <td>HofLGzk1Or/8Ildj2+Lqv0UGGvY82NLoni8+J/Yy0RU=</td>\n",
       "      <td>0.5</td>\n",
       "      <td>0.2493</td>\n",
       "    </tr>\n",
       "    <tr>\n",
       "      <th>4</th>\n",
       "      <td>0</td>\n",
       "      <td>13</td>\n",
       "      <td>0</td>\n",
       "      <td>HofLGzk1Or/8Ildj2+Lqv0UGGvY82NLoni8+J/Yy0RU=</td>\n",
       "      <td>0.5</td>\n",
       "      <td>0.2493</td>\n",
       "    </tr>\n",
       "  </tbody>\n",
       "</table>\n",
       "</div>"
      ],
      "text/plain": [
       "   timestamp  machine_ID  event_type  \\\n",
       "0          0           5           0   \n",
       "1          0           6           0   \n",
       "2          0           7           0   \n",
       "3          0          10           0   \n",
       "4          0          13           0   \n",
       "\n",
       "                                    platform_ID  capacity_CPU  capacity_memory  \n",
       "0  HofLGzk1Or/8Ildj2+Lqv0UGGvY82NLoni8+J/Yy0RU=           0.5           0.2493  \n",
       "1  HofLGzk1Or/8Ildj2+Lqv0UGGvY82NLoni8+J/Yy0RU=           0.5           0.2493  \n",
       "2  HofLGzk1Or/8Ildj2+Lqv0UGGvY82NLoni8+J/Yy0RU=           0.5           0.2493  \n",
       "3  HofLGzk1Or/8Ildj2+Lqv0UGGvY82NLoni8+J/Yy0RU=           0.5           0.2493  \n",
       "4  HofLGzk1Or/8Ildj2+Lqv0UGGvY82NLoni8+J/Yy0RU=           0.5           0.2493  "
      ]
     },
     "execution_count": 5,
     "metadata": {},
     "output_type": "execute_result"
    }
   ],
   "source": [
    "#Loading data set with pandas with read_csv\n",
    "machine_events_pandas = pd.read_csv('clusterdata-2011-2/machine_events/part-00000-of-00001.csv.gz',\n",
    "                            names = machine_events_header )\n",
    "machine_events_pandas.head()"
   ]
  },
  {
   "cell_type": "code",
   "execution_count": 6,
   "metadata": {},
   "outputs": [
    {
     "data": {
      "text/plain": [
       "37780"
      ]
     },
     "execution_count": 6,
     "metadata": {},
     "output_type": "execute_result"
    }
   ],
   "source": [
    "#Counting the number of rows with Spark\n",
    "machine_events_spark.count()"
   ]
  },
  {
   "cell_type": "code",
   "execution_count": 14,
   "metadata": {},
   "outputs": [
    {
     "data": {
      "text/plain": [
       "timestamp          37780\n",
       "machine_ID         37780\n",
       "event_type         37780\n",
       "platform_ID        37780\n",
       "capacity_CPU       37748\n",
       "capacity_memory    37748\n",
       "dtype: int64"
      ]
     },
     "execution_count": 14,
     "metadata": {},
     "output_type": "execute_result"
    }
   ],
   "source": [
    "#Counting the number of rows with Pandas\n",
    "machine_events_pandas.count()"
   ]
  },
  {
   "cell_type": "markdown",
   "metadata": {},
   "source": [
    "The results obtainted are slightly different, because Pandas counts for each of the columns separately."
   ]
  },
  {
   "cell_type": "code",
   "execution_count": 46,
   "metadata": {},
   "outputs": [
    {
     "data": {
      "text/plain": [
       "35015"
      ]
     },
     "execution_count": 46,
     "metadata": {},
     "output_type": "execute_result"
    }
   ],
   "source": [
    "#Filtering with Spark\n",
    "machine_events_spark.filter(machine_events_spark.capacity_CPU == '0.5').count()"
   ]
  },
  {
   "cell_type": "code",
   "execution_count": 42,
   "metadata": {},
   "outputs": [
    {
     "data": {
      "text/plain": [
       "timestamp          35015\n",
       "machine_ID         35015\n",
       "event_type         35015\n",
       "platform_ID        35015\n",
       "capacity_CPU       35015\n",
       "capacity_memory    35015\n",
       "dtype: int64"
      ]
     },
     "execution_count": 42,
     "metadata": {},
     "output_type": "execute_result"
    }
   ],
   "source": [
    "#Filtering with Pandas\n",
    "machine_events_pandas[machine_events_pandas['capacity_CPU']==0.5].count()"
   ]
  },
  {
   "cell_type": "code",
   "execution_count": 51,
   "metadata": {},
   "outputs": [
    {
     "name": "stdout",
     "output_type": "stream",
     "text": [
      "+-----------------------------------+\n",
      "|corr(capacity_CPU, capacity_memory)|\n",
      "+-----------------------------------+\n",
      "|                 0.6848616088591185|\n",
      "+-----------------------------------+\n",
      "\n"
     ]
    }
   ],
   "source": [
    "#Finding correlation with Spark\n",
    "from pyspark.sql.functions import corr\n",
    "machine_events_spark.select(corr(\"capacity_CPU\",\"capacity_memory\")).show()"
   ]
  },
  {
   "cell_type": "code",
   "execution_count": 53,
   "metadata": {},
   "outputs": [
    {
     "data": {
      "text/html": [
       "<div>\n",
       "<style scoped>\n",
       "    .dataframe tbody tr th:only-of-type {\n",
       "        vertical-align: middle;\n",
       "    }\n",
       "\n",
       "    .dataframe tbody tr th {\n",
       "        vertical-align: top;\n",
       "    }\n",
       "\n",
       "    .dataframe thead th {\n",
       "        text-align: right;\n",
       "    }\n",
       "</style>\n",
       "<table border=\"1\" class=\"dataframe\">\n",
       "  <thead>\n",
       "    <tr style=\"text-align: right;\">\n",
       "      <th></th>\n",
       "      <th>capacity_CPU</th>\n",
       "      <th>capacity_memory</th>\n",
       "    </tr>\n",
       "  </thead>\n",
       "  <tbody>\n",
       "    <tr>\n",
       "      <th>capacity_CPU</th>\n",
       "      <td>1.000000</td>\n",
       "      <td>0.684862</td>\n",
       "    </tr>\n",
       "    <tr>\n",
       "      <th>capacity_memory</th>\n",
       "      <td>0.684862</td>\n",
       "      <td>1.000000</td>\n",
       "    </tr>\n",
       "  </tbody>\n",
       "</table>\n",
       "</div>"
      ],
      "text/plain": [
       "                 capacity_CPU  capacity_memory\n",
       "capacity_CPU         1.000000         0.684862\n",
       "capacity_memory      0.684862         1.000000"
      ]
     },
     "execution_count": 53,
     "metadata": {},
     "output_type": "execute_result"
    }
   ],
   "source": [
    "#Finding correlation with Pandas\n",
    "machine_events_pandas[['capacity_CPU','capacity_memory']].corr()"
   ]
  },
  {
   "cell_type": "markdown",
   "metadata": {},
   "source": [
    "After seeing some similar functions of both libraries, we can look at their performance and compare it.\n",
    "<br>For this we will use **SQL queries** in Spark and equivalent operations in Pandas"
   ]
  },
  {
   "cell_type": "code",
   "execution_count": 7,
   "metadata": {},
   "outputs": [
    {
     "name": "stdout",
     "output_type": "stream",
     "text": [
      "2.4052718620000633\n"
     ]
    }
   ],
   "source": [
    "from timeit import default_timer as timer\n",
    "start = timer()\n",
    "machine_events_spark.registerTempTable('machines_spark')\n",
    "spark.sql('select * from machines_spark where capacity_memory > 0.4 and capacity_CPU == 0.5').collect()\n",
    "end = timer()\n",
    "spark_time_select = end - start\n",
    "print(spark_time_select)"
   ]
  },
  {
   "cell_type": "code",
   "execution_count": 8,
   "metadata": {},
   "outputs": [
    {
     "name": "stdout",
     "output_type": "stream",
     "text": [
      "0.005688225999847418\n"
     ]
    }
   ],
   "source": [
    "start = timer()\n",
    "machine_events_pandas[(machine_events_pandas['capacity_CPU'] == 0.5) & (machine_events_pandas['capacity_memory']>0.4)]\n",
    "end = timer()\n",
    "pandas_time_select = end - start\n",
    "print(pandas_time_select)"
   ]
  },
  {
   "cell_type": "markdown",
   "metadata": {},
   "source": [
    "Next comparison will be **sorting**"
   ]
  },
  {
   "cell_type": "code",
   "execution_count": 9,
   "metadata": {},
   "outputs": [
    {
     "name": "stdout",
     "output_type": "stream",
     "text": [
      "2.989183776000118\n"
     ]
    }
   ],
   "source": [
    "start = timer()\n",
    "machine_events_spark.registerTempTable('machines_spark')\n",
    "spark.sql('select * from machines_spark order by capacity_CPU, capacity_memory').collect()\n",
    "end = timer()\n",
    "spark_time_sort = end - start\n",
    "print(spark_time_sort)"
   ]
  },
  {
   "cell_type": "code",
   "execution_count": 10,
   "metadata": {},
   "outputs": [
    {
     "name": "stdout",
     "output_type": "stream",
     "text": [
      "0.18032287000005454\n"
     ]
    }
   ],
   "source": [
    "start = timer()\n",
    "machine_events_pandas.sort_values(by=['capacity_CPU', 'capacity_memory'])\n",
    "end = timer()\n",
    "pandas_time_sort = end - start\n",
    "print(pandas_time_sort)"
   ]
  },
  {
   "cell_type": "markdown",
   "metadata": {},
   "source": [
    "Next will be **joining** datasets. We will join machine events with machine attributes."
   ]
  },
  {
   "cell_type": "code",
   "execution_count": 11,
   "metadata": {},
   "outputs": [
    {
     "name": "stdout",
     "output_type": "stream",
     "text": [
      "0.3305594270000256\n"
     ]
    }
   ],
   "source": [
    "start = timer()\n",
    "machine_attributes_spark = spark.read.csv('clusterdata-2011-2/machine_attributes/part-00000-of-00001.csv.gz')\n",
    "machine_attributes_spark = machine_attributes_spark.withColumnRenamed(\"_c0\", \"timestamp\")\n",
    "machine_attributes_spark = machine_attributes_spark.withColumnRenamed(\"_c1\", \"machine_ID\")\n",
    "machine_attributes_spark = machine_attributes_spark.withColumnRenamed(\"_c2\", \"attribute_name\")\n",
    "machine_attributes_spark = machine_attributes_spark.withColumnRenamed(\"_c3\", \"attribute_value\")\n",
    "machine_attributes_spark = machine_attributes_spark.withColumnRenamed(\"_c4\", \"attribute_deleted\")\n",
    "end = timer()\n",
    "print(end-start)"
   ]
  },
  {
   "cell_type": "code",
   "execution_count": 12,
   "metadata": {},
   "outputs": [
    {
     "name": "stdout",
     "output_type": "stream",
     "text": [
      "36.92662312900006\n"
     ]
    }
   ],
   "source": [
    "machine_attributes_header = [\"timestamp\", \"machine_ID\", \"attribute_name\", \"attribute_value\", \"attribute_deleted\"]\n",
    "start = timer()\n",
    "machine_attributes_pandas = pd.read_csv('clusterdata-2011-2/machine_attributes/part-00000-of-00001.csv.gz',\n",
    "                            names = machine_attributes_header )\n",
    "end = timer()\n",
    "print(end-start)"
   ]
  },
  {
   "cell_type": "code",
   "execution_count": 106,
   "metadata": {},
   "outputs": [
    {
     "name": "stdout",
     "output_type": "stream",
     "text": [
      "37.521929436999926\n"
     ]
    }
   ],
   "source": [
    "start = timer()\n",
    "machine_events_spark.registerTempTable('machines_spark')\n",
    "machine_attributes_spark.registerTempTable('machines2_spark')\n",
    "spark.sql('select * from machines_spark join machines2_spark on machines_spark.timestamp = machines2_spark.timestamp and machines_spark.machine_ID = machines2_spark.machine_ID').collect()\n",
    "end = timer()\n",
    "spark_time_join = end - start\n",
    "print(spark_time_join)"
   ]
  },
  {
   "cell_type": "code",
   "execution_count": 91,
   "metadata": {},
   "outputs": [
    {
     "name": "stdout",
     "output_type": "stream",
     "text": [
      "4.256840640999144\n"
     ]
    }
   ],
   "source": [
    "start = timer()\n",
    "pd.merge(machine_events_pandas, machine_attributes_pandas, how = 'left', left_on = ['timestamp', 'machine_ID'], right_on = ['timestamp', 'machine_ID'])\n",
    "end = timer()\n",
    "pandas_time_join = end - start\n",
    "print(pandas_time_join)"
   ]
  },
  {
   "cell_type": "markdown",
   "metadata": {},
   "source": [
    "Final thing we will compare is **grouping**"
   ]
  },
  {
   "cell_type": "code",
   "execution_count": 94,
   "metadata": {},
   "outputs": [
    {
     "name": "stdout",
     "output_type": "stream",
     "text": [
      "0.9742381450014364\n"
     ]
    }
   ],
   "source": [
    "start = timer()\n",
    "machine_events_spark.registerTempTable('machines_spark')\n",
    "spark.sql('select count(*) from machines_spark group by capacity_CPU').collect()\n",
    "end = timer()\n",
    "spark_time_group = end - start\n",
    "print(spark_time_group)"
   ]
  },
  {
   "cell_type": "code",
   "execution_count": 97,
   "metadata": {},
   "outputs": [
    {
     "name": "stdout",
     "output_type": "stream",
     "text": [
      "0.0020762589992955327\n"
     ]
    }
   ],
   "source": [
    "start = timer()\n",
    "machine_events_pandas.groupby('capacity_CPU').size()\n",
    "end = timer()\n",
    "pandas_time_group = end - start\n",
    "print(pandas_time_group)"
   ]
  },
  {
   "cell_type": "code",
   "execution_count": 111,
   "metadata": {},
   "outputs": [
    {
     "data": {
      "text/html": [
       "<div>\n",
       "<style scoped>\n",
       "    .dataframe tbody tr th:only-of-type {\n",
       "        vertical-align: middle;\n",
       "    }\n",
       "\n",
       "    .dataframe tbody tr th {\n",
       "        vertical-align: top;\n",
       "    }\n",
       "\n",
       "    .dataframe thead th {\n",
       "        text-align: right;\n",
       "    }\n",
       "</style>\n",
       "<table border=\"1\" class=\"dataframe\">\n",
       "  <thead>\n",
       "    <tr style=\"text-align: right;\">\n",
       "      <th></th>\n",
       "      <th>Analysis</th>\n",
       "      <th>Spark</th>\n",
       "      <th>Pandas</th>\n",
       "    </tr>\n",
       "  </thead>\n",
       "  <tbody>\n",
       "    <tr>\n",
       "      <th>0</th>\n",
       "      <td>where clauses</td>\n",
       "      <td>0.517818</td>\n",
       "      <td>0.004334</td>\n",
       "    </tr>\n",
       "    <tr>\n",
       "      <th>1</th>\n",
       "      <td>sorting</td>\n",
       "      <td>1.117553</td>\n",
       "      <td>0.009236</td>\n",
       "    </tr>\n",
       "    <tr>\n",
       "      <th>2</th>\n",
       "      <td>joining</td>\n",
       "      <td>37.521929</td>\n",
       "      <td>4.256841</td>\n",
       "    </tr>\n",
       "    <tr>\n",
       "      <th>3</th>\n",
       "      <td>grouping</td>\n",
       "      <td>0.974238</td>\n",
       "      <td>0.002076</td>\n",
       "    </tr>\n",
       "  </tbody>\n",
       "</table>\n",
       "</div>"
      ],
      "text/plain": [
       "        Analysis      Spark    Pandas\n",
       "0  where clauses   0.517818  0.004334\n",
       "1        sorting   1.117553  0.009236\n",
       "2        joining  37.521929  4.256841\n",
       "3       grouping   0.974238  0.002076"
      ]
     },
     "execution_count": 111,
     "metadata": {},
     "output_type": "execute_result"
    }
   ],
   "source": [
    "results_df = pd.DataFrame(columns=['Analysis', 'Spark', 'Pandas'])\n",
    "results_df = results_df.append({'Analysis': 'where clauses', 'Spark': spark_time_select, 'Pandas': pandas_time_select}, ignore_index=True)\n",
    "results_df = results_df.append({'Analysis': 'sorting', 'Spark': spark_time_sort, 'Pandas': pandas_time_sort}, ignore_index=True)\n",
    "results_df = results_df.append({'Analysis': 'joining', 'Spark': spark_time_join, 'Pandas': pandas_time_join}, ignore_index=True)\n",
    "results_df = results_df.append({'Analysis': 'grouping', 'Spark': spark_time_group, 'Pandas': pandas_time_group}, ignore_index=True)\n",
    "results_df"
   ]
  },
  {
   "cell_type": "code",
   "execution_count": 112,
   "metadata": {},
   "outputs": [
    {
     "data": {
      "text/plain": [
       "<BarContainer object of 4 artists>"
      ]
     },
     "execution_count": 112,
     "metadata": {},
     "output_type": "execute_result"
    },
    {
     "data": {
      "image/png": "[encoded data removed]",
      "text/plain": [
       "<Figure size 432x288 with 1 Axes>"
      ]
     },
     "metadata": {},
     "output_type": "display_data"
    }
   ],
   "source": [
    "import matplotlib.pyplot as plt\n",
    "import seaborn as sns\n",
    "sns.set()\n",
    "plt.bar(results_df['Analysis'], results_df['Spark'], label = \"Spark\", tick_label = results_df['Analysis'], width=0.3, align='edge', color='r')\n",
    "plt.bar(results_df['Analysis'], results_df['Pandas'], label = \"Pandas\", tick_label = results_df['Analysis'], width=-0.3, align='edge', color='c')"
   ]
  },
  {
   "cell_type": "markdown",
   "metadata": {},
   "source": [
    "Now that we have all our results represented in a table and graphically, we can analyze them properly and draw conslusions. For these analysis we used very small data sets and we can see that in all of the analysis Pandas outperformed Spark. We conclude that for smaller datasets it is definitely better to use Pandas, because Spark's complexity slowed it down.\n",
    "\n",
    "Next, we will try to repeat these analysis, but with a bigger data set, where Spark is expected to perform better."
   ]
  },
  {
   "cell_type": "code",
   "execution_count": null,
   "metadata": {},
   "outputs": [],
   "source": []
  }
 ],
 "metadata": {
  "kernelspec": {
   "display_name": "Python 3",
   "language": "python",
   "name": "python3"
  },
  "language_info": {
   "codemirror_mode": {
    "name": "ipython",
    "version": 3
   },
   "file_extension": ".py",
   "mimetype": "text/x-python",
   "name": "python",
   "nbconvert_exporter": "python",
   "pygments_lexer": "ipython3",
   "version": "3.7.0"
  }
 },
 "nbformat": 4,
 "nbformat_minor": 2
}
